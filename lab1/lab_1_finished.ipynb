{
   "cells": [
      {
         "cell_type": "markdown",
         "metadata": {},
         "source": [
            "# Regresja liniowa i logistyczna"
         ]
      },
      {
         "cell_type": "markdown",
         "metadata": {},
         "source": [
            "## Wstęp\n",
            "\n",
            "Celem tego laboratorium będzie stworzenie modelu uczenia maszynowego do estymacji cen nieruchomości na podstawie danych o jej położeniu, ilości sypialń, roku budowy, typie budynku oraz wielu innych parametrów.\n",
            "\n",
            "![house-price-gif](house-price.gif)\n",
            "\n",
            "W trakcie realizacji tego labratorium zapoznamy się z następującymi zagadnieniami:\n",
            "\n",
            "* przygotowaniem danych:\n",
            "    * ładowaniem danych,\n",
            "    * typami danych,\n",
            "    * czyszczeniem danych,\n",
            "    * rozkładami danych,\n",
            "    * obsługą wartości brakujących,\n",
            "    * zmiennymi kategorycznymi uporządkowanymi i nieuporządkowanymi,\n",
            "    * skalowaniem wartości,\n",
            "    * API biblioteki Scikit-Learn dla transformacji danych;\n",
            "* regresją liniową, w szczególności z:\n",
            "    * podziałem zbioru na część treningową i testową,\n",
            "    * oceną jakości modelu,\n",
            "    * walidacją skrośną,\n",
            "    * wyszukiwaniem hiperparametrów,\n",
            "    * problemem przeuczenia, niedouczenia,\n",
            "    * regularyzacją L1 i L2,\n",
            "    * regresją wielomianową;\n",
            "* regresją logistyczną, w szczególności z:\n",
            "    * różnymi rodzajami błędów klasyfikacji,\n",
            "    * metrykami oceniającymi jakość klasyfikatorów.\n",
            "\n",
            "Na pierwszych zajęciach możesz korzystać ze środowiska Google Colab i zdalnego środowiska obliczeniowego. Jeżeli interesuje Cię skonfigurowanie Pythona  na własnym komputerze, to niezbędne informacje są podane w sekcji \"Konfiguracja własnego komputera\".\n",
            "\n",
            "**Uwaga:** niektóre zadania zamiast kodu wymagają podania pisemnej odpowiedzi w miejscu oznaczonym `// skomentuj tutaj`."
         ]
      },
      {
         "cell_type": "markdown",
         "metadata": {},
         "source": [
            "## Wykorzystywane biblioteki\n",
            "\n",
            "Na zajęciach korzystać będziesz z kilku popularnych bibliotek Pythona, które umożliwiają klasyfikację danych, ich wizualizację czy preprocessing. Są to:\n",
            "\n",
            "* [numpy](https://numpy.org/) - bibliotek do wykonywania obliczeń macierzowych. Pozwala na efektywne przeprowadzanie obliczeń naukowych. Dobrze współgra z biblioteką pandas.\n",
            "* [pandas](https://pandas.pydata.org/) - narzędzie do analizy danych tabelarycznych, ich strukturyzowania oraz manipulacji na nich.\n",
            "* [sklearn](https://scikit-learn.org/stable/) - narzędzie do tworzenia modeli klasyfikacji, regresji, clusteringu itp. Biblioteka ta jest dość rozbudowana i pozwala także na mapowanie danych czy redukcję wymiarów. Więcej informacji znajdziesz w podanym linku.\n",
            "* [missingno](https://pypi.org/project/missingno/) - narzędzie do wizualizacji kompletności danych (brakujących wartości).\n",
            "* [seaborn](https://seaborn.pydata.org/) - kompleksowe narzędzie do wizualizacji danych jako takich. Pozwala na stworzenie bardzo szerokiej gamy wykresów w zależności od potrzeb.\n",
            "\n",
            "Zostały tutaj pominięte pewne standardowe biblioteki jak np. `os` czy `matplotlib`."
         ]
      },
      {
         "cell_type": "markdown",
         "metadata": {},
         "source": [
            "## Wykorzystanie Google Colab\n",
            "\n",
            "Korzystanie Google Colab nie jest wymagane. W niektórych laboratorich może być jednak przydatny dostęp do środowiska wyposażonego w kartę GPU.\n",
            "\n",
            "[![Open in Colab](https://colab.research.google.com/assets/colab-badge.svg)](https://colab.research.google.com/github/apohllo/sztuczna-inteligencja/blob/master/lab1/lab_1.ipynb)\n",
            "\n",
            "Jeżeli pracujesz na Google Colab, zacznij od przeniesienia dwóch plików CSV, które zostały dołączone do laboratorium ([ames_data.csv](ames_data.csv) oraz [bank_marketing_data.csv](bank_marketing_data.csv)), do folderu `/content`. Nie musisz ich umieszczać w `/content/sample_data` - ważne, aby znalazły się w `/content`. Jeżeli pracujesz lokalnie, to wystarczy, że pliki te będą obok tego notebooka.\n"
         ]
      },
      {
         "cell_type": "markdown",
         "metadata": {},
         "source": [
            "## Konfiguracja własnego komputera\n",
            "\n",
            "Jeżeli korzystasz z własnego komputera, to musisz zainstalować trochę więcej bibliotek (Google Colab ma je już zainstalowane). Najlepiej używać Pythona 3.9 lub nowszej wersji. Laboratorium było testowane z wersją 3.9."
         ]
      },
      {
         "cell_type": "markdown",
         "metadata": {},
         "source": [
            "### Anaconda\n",
            "\n",
            "Jeżeli korzystasz z Anacondy (możesz uruchomić w terminalu):"
         ]
      },
      {
         "cell_type": "code",
         "execution_count": 138,
         "metadata": {
            "ExecuteTime": {
               "end_time": "2023-09-15T17:35:49.000694662Z",
               "start_time": "2023-09-15T17:35:48.923664169Z"
            }
         },
         "outputs": [],
         "source": [
            "# !conda install -c conda-forge --yes numpy pandas scikit-learn matplotlib missingno"
         ]
      },
      {
         "cell_type": "markdown",
         "metadata": {},
         "source": [
            "### venv\n",
            "\n",
            "Jeżeli używasz zwykłego venv'a (**zdecydowanie niezalecane, szczególnie na Windowsie**):"
         ]
      },
      {
         "cell_type": "code",
         "execution_count": 139,
         "metadata": {
            "ExecuteTime": {
               "end_time": "2023-09-15T17:35:49.476264618Z",
               "start_time": "2023-09-15T17:35:49.441019250Z"
            }
         },
         "outputs": [],
         "source": [
            "# !pip install --yes numpy pandas scikit-learn matplotlib missingno"
         ]
      },
      {
         "cell_type": "markdown",
         "metadata": {},
         "source": [
            "W przypadku własnego komputera, jeżeli instalowałeś z terminala, pamiętaj, aby zarejestrować aktualne środowisko wirtualne jako kernel (środowisko uruchomieniowe) dla Jupyter Notebooka. Wybierz go jako używany kernel w menu na górze notebooka (nazwa jak w komendzie poniżej)."
         ]
      },
      {
         "cell_type": "code",
         "execution_count": 140,
         "metadata": {
            "ExecuteTime": {
               "end_time": "2023-09-15T17:35:50.025546447Z",
               "start_time": "2023-09-15T17:35:49.999161583Z"
            }
         },
         "outputs": [],
         "source": [
            "# !ipython kernel install --user --name \"PSI\""
         ]
      },
      {
         "cell_type": "markdown",
         "metadata": {},
         "source": [
            "## Zbiór danych do regresji"
         ]
      },
      {
         "cell_type": "markdown",
         "metadata": {},
         "source": [
            "Wykorzystamy zbiór danych [Ames housing](https://www.openintro.org/book/statdata/?data=ames), w którym zadaniem jest przewidywanie wartości domu na podstawie cech budynku, działki, lokalizacji itp. Jest to więc przewidywanie wartości ciągłej, czyli regresja. Zbiór ten zawiera zmienne numeryczne (floaty i inty), kategoryczne nieuporządkowane (*categorical nominal*) oraz kategoryczne uporządkowane (*categorical ordinal*), więc będzie wymagał wstępnego przetworzenia tak jak większość prawdziwych danych w uczeniu maszynowym.\n",
            "\n",
            "Inne znane, ale gorsze jakościowo zbiory tego typu, to na przykład:\n",
            "- Boston housing - rasistowski, z tego powodu usunięty np. ze Scikit-learn ([wyjaśnienie](https://fairlearn.org/main/user_guide/datasets/boston_housing_data.html), [dyskusja](https://github.com/quantumblacklabs/causalnex/issues/92), [badanie](https://medium.com/@docintangible/racist-data-destruction-113e3eff54a8))\n",
            "- California housing - zbyt prosty (tylko kilka zmiennych numerycznych), użyty np. w książce \"Hands-On Machine Learning with Scikit-Learn, Keras, and TensorFlow\" A. Geron ([opis](https://inria.github.io/scikit-learn-mooc/python_scripts/datasets_california_housing.html))\n",
            "\n",
            "Autor zbioru to Dean De Cock, a zbiór został opisany oryginalnie w [tym artykule](https://jse.amstat.org/v19n3/decock.pdf). "
         ]
      },
      {
         "cell_type": "code",
         "execution_count": 141,
         "metadata": {
            "ExecuteTime": {
               "end_time": "2023-09-15T18:11:58.167689459Z",
               "start_time": "2023-09-15T18:11:57.378074504Z"
            }
         },
         "outputs": [],
         "source": [
            "import matplotlib.pyplot as plt\n",
            "import numpy as np\n",
            "import pandas as pd"
         ]
      },
      {
         "cell_type": "markdown",
         "metadata": {},
         "source": [
            "### Ładowanie danych tabelarycznych"
         ]
      },
      {
         "cell_type": "markdown",
         "metadata": {},
         "source": [
            "\n",
            "Pliki [ames_data.csv](ames_data.csv) oraz [bank_marketing_data.csv](bank_marketing_data.csv) to dwa zbiory danych, niezależne od siebie. Pierwszy jest wykorzystywany w pierwszej części laboratorium (regresji liniowej), natomiast drugi przyda się przy regresji logistycznej (klasyfikacji). Jego celem jest przewidywanie wartości domu.\n",
            "\n",
            "Wczytajmy dane `ames_data.csv` do zmiennej `df` (takiej nazwy często się używa, żeby oznaczyć obiekt `DataFrame` - zaawansowanej tablicy, dostarczonej nam przez bibliotekę `pandas`)."
         ]
      },
      {
         "cell_type": "code",
         "execution_count": 142,
         "metadata": {
            "ExecuteTime": {
               "end_time": "2023-09-15T21:17:54.649270399Z",
               "start_time": "2023-09-15T21:17:54.491837233Z"
            }
         },
         "outputs": [],
         "source": [
            "df = pd.read_csv(\"ames_data.csv\")\n",
            "\n",
            "# remove dots from names to match data_description.txt\n",
            "df.columns = [col.replace(\".\", \"\") for col in df.columns]"
         ]
      },
      {
         "cell_type": "markdown",
         "metadata": {},
         "source": [
            "Zobaczmy jakie dane znajdują się w naszej tabeli. Wykorzystajmy do tego metodę `info()`."
         ]
      },
      {
         "cell_type": "code",
         "execution_count": 143,
         "metadata": {
            "ExecuteTime": {
               "end_time": "2023-09-15T21:17:54.959663968Z",
               "start_time": "2023-09-15T21:17:54.871675198Z"
            },
            "scrolled": true
         },
         "outputs": [
            {
               "name": "stdout",
               "output_type": "stream",
               "text": [
                  "<class 'pandas.core.frame.DataFrame'>\n",
                  "RangeIndex: 2930 entries, 0 to 2929\n",
                  "Data columns (total 82 columns):\n",
                  " #   Column         Non-Null Count  Dtype  \n",
                  "---  ------         --------------  -----  \n",
                  " 0   Order          2930 non-null   int64  \n",
                  " 1   PID            2930 non-null   int64  \n",
                  " 2   MSSubClass     2930 non-null   int64  \n",
                  " 3   MSZoning       2930 non-null   object \n",
                  " 4   LotFrontage    2440 non-null   float64\n",
                  " 5   LotArea        2930 non-null   int64  \n",
                  " 6   Street         2930 non-null   object \n",
                  " 7   Alley          198 non-null    object \n",
                  " 8   LotShape       2930 non-null   object \n",
                  " 9   LandContour    2930 non-null   object \n",
                  " 10  Utilities      2930 non-null   object \n",
                  " 11  LotConfig      2930 non-null   object \n",
                  " 12  LandSlope      2930 non-null   object \n",
                  " 13  Neighborhood   2930 non-null   object \n",
                  " 14  Condition1     2930 non-null   object \n",
                  " 15  Condition2     2930 non-null   object \n",
                  " 16  BldgType       2930 non-null   object \n",
                  " 17  HouseStyle     2930 non-null   object \n",
                  " 18  OverallQual    2930 non-null   int64  \n",
                  " 19  OverallCond    2930 non-null   int64  \n",
                  " 20  YearBuilt      2930 non-null   int64  \n",
                  " 21  YearRemodAdd   2930 non-null   int64  \n",
                  " 22  RoofStyle      2930 non-null   object \n",
                  " 23  RoofMatl       2930 non-null   object \n",
                  " 24  Exterior1st    2930 non-null   object \n",
                  " 25  Exterior2nd    2930 non-null   object \n",
                  " 26  MasVnrType     2907 non-null   object \n",
                  " 27  MasVnrArea     2907 non-null   float64\n",
                  " 28  ExterQual      2930 non-null   object \n",
                  " 29  ExterCond      2930 non-null   object \n",
                  " 30  Foundation     2930 non-null   object \n",
                  " 31  BsmtQual       2850 non-null   object \n",
                  " 32  BsmtCond       2850 non-null   object \n",
                  " 33  BsmtExposure   2847 non-null   object \n",
                  " 34  BsmtFinType1   2850 non-null   object \n",
                  " 35  BsmtFinSF1     2929 non-null   float64\n",
                  " 36  BsmtFinType2   2849 non-null   object \n",
                  " 37  BsmtFinSF2     2929 non-null   float64\n",
                  " 38  BsmtUnfSF      2929 non-null   float64\n",
                  " 39  TotalBsmtSF    2929 non-null   float64\n",
                  " 40  Heating        2930 non-null   object \n",
                  " 41  HeatingQC      2930 non-null   object \n",
                  " 42  CentralAir     2930 non-null   object \n",
                  " 43  Electrical     2929 non-null   object \n",
                  " 44  X1stFlrSF      2930 non-null   int64  \n",
                  " 45  X2ndFlrSF      2930 non-null   int64  \n",
                  " 46  LowQualFinSF   2930 non-null   int64  \n",
                  " 47  GrLivArea      2930 non-null   int64  \n",
                  " 48  BsmtFullBath   2928 non-null   float64\n",
                  " 49  BsmtHalfBath   2928 non-null   float64\n",
                  " 50  FullBath       2930 non-null   int64  \n",
                  " 51  HalfBath       2930 non-null   int64  \n",
                  " 52  BedroomAbvGr   2930 non-null   int64  \n",
                  " 53  KitchenAbvGr   2930 non-null   int64  \n",
                  " 54  KitchenQual    2930 non-null   object \n",
                  " 55  TotRmsAbvGrd   2930 non-null   int64  \n",
                  " 56  Functional     2930 non-null   object \n",
                  " 57  Fireplaces     2930 non-null   int64  \n",
                  " 58  FireplaceQu    1508 non-null   object \n",
                  " 59  GarageType     2773 non-null   object \n",
                  " 60  GarageYrBlt    2771 non-null   float64\n",
                  " 61  GarageFinish   2771 non-null   object \n",
                  " 62  GarageCars     2929 non-null   float64\n",
                  " 63  GarageArea     2929 non-null   float64\n",
                  " 64  GarageQual     2771 non-null   object \n",
                  " 65  GarageCond     2771 non-null   object \n",
                  " 66  PavedDrive     2930 non-null   object \n",
                  " 67  WoodDeckSF     2930 non-null   int64  \n",
                  " 68  OpenPorchSF    2930 non-null   int64  \n",
                  " 69  EnclosedPorch  2930 non-null   int64  \n",
                  " 70  X3SsnPorch     2930 non-null   int64  \n",
                  " 71  ScreenPorch    2930 non-null   int64  \n",
                  " 72  PoolArea       2930 non-null   int64  \n",
                  " 73  PoolQC         13 non-null     object \n",
                  " 74  Fence          572 non-null    object \n",
                  " 75  MiscFeature    106 non-null    object \n",
                  " 76  MiscVal        2930 non-null   int64  \n",
                  " 77  MoSold         2930 non-null   int64  \n",
                  " 78  YrSold         2930 non-null   int64  \n",
                  " 79  SaleType       2930 non-null   object \n",
                  " 80  SaleCondition  2930 non-null   object \n",
                  " 81  SalePrice      2930 non-null   int64  \n",
                  "dtypes: float64(11), int64(28), object(43)\n",
                  "memory usage: 1.8+ MB\n"
               ]
            }
         ],
         "source": [
            "df.info()"
         ]
      },
      {
         "cell_type": "markdown",
         "metadata": {},
         "source": [
            "Mamy naprawdę dużo cech! Ich szczegółowy opis znajdziesz w dołączonym do laboratorium pliku [ames_description.txt](ames_description.txt)."
         ]
      },
      {
         "cell_type": "markdown",
         "metadata": {},
         "source": [
            "### Wstępna analiza danych"
         ]
      },
      {
         "cell_type": "markdown",
         "metadata": {},
         "source": [
            "Zawsze, zanim zaczniesz robić jakąkolwiek predykcję czy analizę danych, dobrze jest zapoznać się z nimi, z ich kodowaniem i znaczeniem. Kolejnym istotnym aspektem jest typ danych. Nie każdy klasyfikator nadaje się do każdego typu.\n",
            "\n",
            "Wyświetlmy teraz kilka przykładowych rekordów z początku pliku, korzystając z metody `head()`."
         ]
      },
      {
         "cell_type": "code",
         "execution_count": 144,
         "metadata": {
            "ExecuteTime": {
               "end_time": "2023-09-15T21:17:55.507220376Z",
               "start_time": "2023-09-15T21:17:55.401007891Z"
            }
         },
         "outputs": [
            {
               "data": {
                  "text/html": [
                     "<div>\n",
                     "<style scoped>\n",
                     "    .dataframe tbody tr th:only-of-type {\n",
                     "        vertical-align: middle;\n",
                     "    }\n",
                     "\n",
                     "    .dataframe tbody tr th {\n",
                     "        vertical-align: top;\n",
                     "    }\n",
                     "\n",
                     "    .dataframe thead th {\n",
                     "        text-align: right;\n",
                     "    }\n",
                     "</style>\n",
                     "<table border=\"1\" class=\"dataframe\">\n",
                     "  <thead>\n",
                     "    <tr style=\"text-align: right;\">\n",
                     "      <th></th>\n",
                     "      <th>Order</th>\n",
                     "      <th>PID</th>\n",
                     "      <th>MSSubClass</th>\n",
                     "      <th>MSZoning</th>\n",
                     "      <th>LotFrontage</th>\n",
                     "      <th>LotArea</th>\n",
                     "      <th>Street</th>\n",
                     "      <th>Alley</th>\n",
                     "      <th>LotShape</th>\n",
                     "      <th>LandContour</th>\n",
                     "      <th>...</th>\n",
                     "      <th>PoolArea</th>\n",
                     "      <th>PoolQC</th>\n",
                     "      <th>Fence</th>\n",
                     "      <th>MiscFeature</th>\n",
                     "      <th>MiscVal</th>\n",
                     "      <th>MoSold</th>\n",
                     "      <th>YrSold</th>\n",
                     "      <th>SaleType</th>\n",
                     "      <th>SaleCondition</th>\n",
                     "      <th>SalePrice</th>\n",
                     "    </tr>\n",
                     "  </thead>\n",
                     "  <tbody>\n",
                     "    <tr>\n",
                     "      <th>0</th>\n",
                     "      <td>1</td>\n",
                     "      <td>526301100</td>\n",
                     "      <td>20</td>\n",
                     "      <td>RL</td>\n",
                     "      <td>141.0</td>\n",
                     "      <td>31770</td>\n",
                     "      <td>Pave</td>\n",
                     "      <td>NaN</td>\n",
                     "      <td>IR1</td>\n",
                     "      <td>Lvl</td>\n",
                     "      <td>...</td>\n",
                     "      <td>0</td>\n",
                     "      <td>NaN</td>\n",
                     "      <td>NaN</td>\n",
                     "      <td>NaN</td>\n",
                     "      <td>0</td>\n",
                     "      <td>5</td>\n",
                     "      <td>2010</td>\n",
                     "      <td>WD</td>\n",
                     "      <td>Normal</td>\n",
                     "      <td>215000</td>\n",
                     "    </tr>\n",
                     "    <tr>\n",
                     "      <th>1</th>\n",
                     "      <td>2</td>\n",
                     "      <td>526350040</td>\n",
                     "      <td>20</td>\n",
                     "      <td>RH</td>\n",
                     "      <td>80.0</td>\n",
                     "      <td>11622</td>\n",
                     "      <td>Pave</td>\n",
                     "      <td>NaN</td>\n",
                     "      <td>Reg</td>\n",
                     "      <td>Lvl</td>\n",
                     "      <td>...</td>\n",
                     "      <td>0</td>\n",
                     "      <td>NaN</td>\n",
                     "      <td>MnPrv</td>\n",
                     "      <td>NaN</td>\n",
                     "      <td>0</td>\n",
                     "      <td>6</td>\n",
                     "      <td>2010</td>\n",
                     "      <td>WD</td>\n",
                     "      <td>Normal</td>\n",
                     "      <td>105000</td>\n",
                     "    </tr>\n",
                     "    <tr>\n",
                     "      <th>2</th>\n",
                     "      <td>3</td>\n",
                     "      <td>526351010</td>\n",
                     "      <td>20</td>\n",
                     "      <td>RL</td>\n",
                     "      <td>81.0</td>\n",
                     "      <td>14267</td>\n",
                     "      <td>Pave</td>\n",
                     "      <td>NaN</td>\n",
                     "      <td>IR1</td>\n",
                     "      <td>Lvl</td>\n",
                     "      <td>...</td>\n",
                     "      <td>0</td>\n",
                     "      <td>NaN</td>\n",
                     "      <td>NaN</td>\n",
                     "      <td>Gar2</td>\n",
                     "      <td>12500</td>\n",
                     "      <td>6</td>\n",
                     "      <td>2010</td>\n",
                     "      <td>WD</td>\n",
                     "      <td>Normal</td>\n",
                     "      <td>172000</td>\n",
                     "    </tr>\n",
                     "    <tr>\n",
                     "      <th>3</th>\n",
                     "      <td>4</td>\n",
                     "      <td>526353030</td>\n",
                     "      <td>20</td>\n",
                     "      <td>RL</td>\n",
                     "      <td>93.0</td>\n",
                     "      <td>11160</td>\n",
                     "      <td>Pave</td>\n",
                     "      <td>NaN</td>\n",
                     "      <td>Reg</td>\n",
                     "      <td>Lvl</td>\n",
                     "      <td>...</td>\n",
                     "      <td>0</td>\n",
                     "      <td>NaN</td>\n",
                     "      <td>NaN</td>\n",
                     "      <td>NaN</td>\n",
                     "      <td>0</td>\n",
                     "      <td>4</td>\n",
                     "      <td>2010</td>\n",
                     "      <td>WD</td>\n",
                     "      <td>Normal</td>\n",
                     "      <td>244000</td>\n",
                     "    </tr>\n",
                     "    <tr>\n",
                     "      <th>4</th>\n",
                     "      <td>5</td>\n",
                     "      <td>527105010</td>\n",
                     "      <td>60</td>\n",
                     "      <td>RL</td>\n",
                     "      <td>74.0</td>\n",
                     "      <td>13830</td>\n",
                     "      <td>Pave</td>\n",
                     "      <td>NaN</td>\n",
                     "      <td>IR1</td>\n",
                     "      <td>Lvl</td>\n",
                     "      <td>...</td>\n",
                     "      <td>0</td>\n",
                     "      <td>NaN</td>\n",
                     "      <td>MnPrv</td>\n",
                     "      <td>NaN</td>\n",
                     "      <td>0</td>\n",
                     "      <td>3</td>\n",
                     "      <td>2010</td>\n",
                     "      <td>WD</td>\n",
                     "      <td>Normal</td>\n",
                     "      <td>189900</td>\n",
                     "    </tr>\n",
                     "  </tbody>\n",
                     "</table>\n",
                     "<p>5 rows × 82 columns</p>\n",
                     "</div>"
                  ],
                  "text/plain": [
                     "   Order        PID  MSSubClass MSZoning  LotFrontage  LotArea Street Alley  \\\n",
                     "0      1  526301100          20       RL        141.0    31770   Pave   NaN   \n",
                     "1      2  526350040          20       RH         80.0    11622   Pave   NaN   \n",
                     "2      3  526351010          20       RL         81.0    14267   Pave   NaN   \n",
                     "3      4  526353030          20       RL         93.0    11160   Pave   NaN   \n",
                     "4      5  527105010          60       RL         74.0    13830   Pave   NaN   \n",
                     "\n",
                     "  LotShape LandContour  ... PoolArea PoolQC  Fence MiscFeature MiscVal MoSold  \\\n",
                     "0      IR1         Lvl  ...        0    NaN    NaN         NaN       0      5   \n",
                     "1      Reg         Lvl  ...        0    NaN  MnPrv         NaN       0      6   \n",
                     "2      IR1         Lvl  ...        0    NaN    NaN        Gar2   12500      6   \n",
                     "3      Reg         Lvl  ...        0    NaN    NaN         NaN       0      4   \n",
                     "4      IR1         Lvl  ...        0    NaN  MnPrv         NaN       0      3   \n",
                     "\n",
                     "  YrSold SaleType  SaleCondition  SalePrice  \n",
                     "0   2010      WD          Normal     215000  \n",
                     "1   2010      WD          Normal     105000  \n",
                     "2   2010      WD          Normal     172000  \n",
                     "3   2010      WD          Normal     244000  \n",
                     "4   2010      WD          Normal     189900  \n",
                     "\n",
                     "[5 rows x 82 columns]"
                  ]
               },
               "execution_count": 144,
               "metadata": {},
               "output_type": "execute_result"
            }
         ],
         "source": [
            "df.head()"
         ]
      },
      {
         "cell_type": "markdown",
         "metadata": {},
         "source": [
            "Jeżeli potrzebujesz szybko stwierdzić, ile dane zawierają rekordów i kolumn, pomocna jest opcja `shape`:"
         ]
      },
      {
         "cell_type": "code",
         "execution_count": 145,
         "metadata": {
            "ExecuteTime": {
               "end_time": "2023-09-15T21:17:55.871716894Z",
               "start_time": "2023-09-15T21:17:55.857639555Z"
            }
         },
         "outputs": [
            {
               "data": {
                  "text/plain": [
                     "(2930, 82)"
                  ]
               },
               "execution_count": 145,
               "metadata": {},
               "output_type": "execute_result"
            }
         ],
         "source": [
            "df.shape"
         ]
      },
      {
         "cell_type": "markdown",
         "metadata": {},
         "source": [
            "## Eksploracja danych, czyszczenie danych i inżynieria cech"
         ]
      },
      {
         "cell_type": "markdown",
         "metadata": {},
         "source": [
            "### Usunięcie niepotrzebnych kolumn"
         ]
      },
      {
         "cell_type": "markdown",
         "metadata": {},
         "source": [
            "Niektóre kolumny są **nieinformatywne (uninformative)**, czyli nie niosą żadnej informacji dla zadania, czyli przewidywania wartości domu. Są pewnym rodzajem metadanych. Przykładowo mamy tutaj kolumny **Order** oraz **PID**.\n",
            "\n",
            "**Order** jest po prostu numerem rekordu w zbiorze danych, moglibyśmy przetasować cały zbiór i to nie powinno w żaden sposób wpłynąć na cokolwiek, a więc możemy spokojnie tę kolumnę usunąć.\n",
            "\n",
            "Formalnie czynimy założenie, że rekordy w naszych danych (próbki / wiersze, poszczególne domy w przypadku tego zbioru) są **niezależne i równomiernie rozłożone** (ang. **independent and identically distributed - i.i.d.**). Innymi słowy, kolejność w danych nie ma znaczenia, bo zbieraliśmy dane taką samą metodą i w identycznych warunkach. Jest to bardzo typowe w ML.\n",
            "\n",
            "**PID** jest po prostu numerem identyfikacyjnym danej nieruchomości w systemie informatycznym, a więc też możemy to usunąć."
         ]
      },
      {
         "cell_type": "code",
         "execution_count": 146,
         "metadata": {
            "ExecuteTime": {
               "end_time": "2023-09-15T21:17:56.307582736Z",
               "start_time": "2023-09-15T21:17:56.154655657Z"
            }
         },
         "outputs": [],
         "source": [
            "df = df.drop([\"Order\", \"PID\"], axis=\"columns\")"
         ]
      },
      {
         "cell_type": "markdown",
         "metadata": {},
         "source": [
            "### Usunięcie słabo reprezentowanych dzielnic"
         ]
      },
      {
         "cell_type": "markdown",
         "metadata": {},
         "source": [
            "Dzielnice *GrnHill* oraz *Landmrk* obejmują w sumie zaledwie 3 domy."
         ]
      },
      {
         "cell_type": "code",
         "execution_count": 147,
         "metadata": {
            "ExecuteTime": {
               "end_time": "2023-09-15T21:17:56.788664312Z",
               "start_time": "2023-09-15T21:17:56.700703449Z"
            }
         },
         "outputs": [],
         "source": [
            "df = df.loc[~df[\"Neighborhood\"].isin([\"GrnHill\", \"Landmrk\"]), :]"
         ]
      },
      {
         "cell_type": "markdown",
         "metadata": {},
         "source": [
            "### Usunięcie obserwacji odstających (outliers)"
         ]
      },
      {
         "cell_type": "markdown",
         "metadata": {},
         "source": [
            "Usuniemy budynki, które mają powyżej 4000 stóp kwadratowych (ok. 370 metrów kwadratowych) powierzchni. Możemy zobaczyć je na wykresie poniżej. "
         ]
      },
      {
         "cell_type": "code",
         "execution_count": 148,
         "metadata": {
            "ExecuteTime": {
               "end_time": "2023-09-15T21:17:58.554777139Z",
               "start_time": "2023-09-15T21:17:58.245198347Z"
            }
         },
         "outputs": [
            {
               "data": {
                  "image/png": "[encoded data removed]",
                  "text/plain": [
                     "<Figure size 640x480 with 1 Axes>"
                  ]
               },
               "metadata": {},
               "output_type": "display_data"
            }
         ],
         "source": [
            "plt.scatter(df[\"GrLivArea\"], df[\"SalePrice\"])\n",
            "plt.title(\"House area vs price\")\n",
            "plt.xlabel(\"GrLivArea\")\n",
            "plt.ylabel(\"SalePrice\")\n",
            "plt.show()"
         ]
      },
      {
         "cell_type": "markdown",
         "metadata": {},
         "source": [
            "Jak widać na wykresie, jest dosłownie kilka domów o tej powierzhcni. Takie skrajne przypadki raczej nas nie interesują - a na pewno stanowią problem dla tak prostego modelu jak regresja logistyczna. Nie chcemy też, żeby nasz model uczył się takich anomalii, więc lepiej je usunąć.\n",
            "\n",
            "Tutaj robimy to ręcznie, ale istnieją też algorytmy do detekcji i usuwania obserwacji odstających."
         ]
      },
      {
         "cell_type": "markdown",
         "metadata": {},
         "source": [
            "**Zadanie 1 (0.25 punktu)**\n",
            "\n",
            "Usuń rekordy nieruchomości o powierzchni (**GrLivArea**) ponad (ostra nierówność) 4 tys. stóp kwadratowych.\n",
            "\n",
            "Podpowiedź: w Pandas korzysta się z `.loc[]` do filtrowania wierszy i kolumn. Pierwszy indeks oznacza, które wiersze zostawić, a drugi indeks, które kolumny wybrać. Jeżeli chcemy zostawić wszystko (np. nie usuwać żadnych kolumn), to zadziała standardowy Pythonowy `:`, jak przy indeksowaniu list."
         ]
      },
      {
         "cell_type": "code",
         "execution_count": 149,
         "metadata": {
            "ExecuteTime": {
               "end_time": "2023-09-15T21:17:59.547691643Z",
               "start_time": "2023-09-15T21:17:59.468151807Z"
            }
         },
         "outputs": [],
         "source": [
            "# remove outliers\n",
            "df = df.loc[df['GrLivArea'] <= 4000, :]"
         ]
      },
      {
         "cell_type": "markdown",
         "metadata": {},
         "source": [
            "Zobaczmy jak teraz wygląda ten sam wykres."
         ]
      },
      {
         "cell_type": "code",
         "execution_count": 150,
         "metadata": {
            "ExecuteTime": {
               "end_time": "2023-09-15T21:18:00.523344768Z",
               "start_time": "2023-09-15T21:18:00.374304098Z"
            }
         },
         "outputs": [
            {
               "data": {
                  "image/png": "[encoded data removed]",
                  "text/plain": [
                     "<Figure size 640x480 with 1 Axes>"
                  ]
               },
               "metadata": {},
               "output_type": "display_data"
            }
         ],
         "source": [
            "plt.scatter(df[\"GrLivArea\"], df[\"SalePrice\"])\n",
            "plt.title(\"House area vs price, outliers removed\")\n",
            "plt.xlabel(\"GrLivArea\")\n",
            "plt.ylabel(\"SalePrice\")\n",
            "plt.show()"
         ]
      },
      {
         "cell_type": "markdown",
         "metadata": {},
         "source": [
            "### Transformacja logarytmiczna zmiennej zależnej"
         ]
      },
      {
         "cell_type": "markdown",
         "metadata": {},
         "source": [
            "Zawsze warto też przyjrzeć się rozkładowi zmiennej docelowej, żeby poznać jej typ i skalę. Jak widać poniżej, rozkład jest dość skośny, co ma sens - mało jest bardzo drogich domów."
         ]
      },
      {
         "cell_type": "code",
         "execution_count": 151,
         "metadata": {
            "ExecuteTime": {
               "end_time": "2023-09-15T21:18:01.827131630Z",
               "start_time": "2023-09-15T21:18:01.782774803Z"
            }
         },
         "outputs": [
            {
               "data": {
                  "text/plain": [
                     "count      2922.000000\n",
                     "mean     180358.266940\n",
                     "std       78536.952287\n",
                     "min       12789.000000\n",
                     "25%      129425.000000\n",
                     "50%      160000.000000\n",
                     "75%      213430.000000\n",
                     "max      625000.000000\n",
                     "Name: SalePrice, dtype: float64"
                  ]
               },
               "execution_count": 151,
               "metadata": {},
               "output_type": "execute_result"
            }
         ],
         "source": [
            "df[\"SalePrice\"].describe()"
         ]
      },
      {
         "cell_type": "code",
         "execution_count": 152,
         "metadata": {
            "ExecuteTime": {
               "end_time": "2023-09-15T21:18:03.121984012Z",
               "start_time": "2023-09-15T21:18:02.976688658Z"
            }
         },
         "outputs": [
            {
               "data": {
                  "image/png": "[encoded data removed]",
                  "text/plain": [
                     "<Figure size 640x480 with 1 Axes>"
                  ]
               },
               "metadata": {},
               "output_type": "display_data"
            }
         ],
         "source": [
            "df[\"SalePrice\"].hist()\n",
            "plt.title(\"Original sale price\")\n",
            "plt.show()"
         ]
      },
      {
         "cell_type": "markdown",
         "metadata": {},
         "source": [
            "Rozkład normalny jest zwykle korzystniejszy dla tworzenia modeli, bo daje sensowną \"wartość środkową\" do przewidywania, a także penalizuje tak samo błędy niezależnie od ich znaku (zaniżona i zawyżona predykcja). Dokonamy dlatego **transformacji logarytmicznej (log transform)**, czyli zlogarytmujemy zmienną docelową (zależną). Dla stabilności numerycznej używa się zwykle `np.log1p`, a nie `np.log` (tutaj [wyjaśnienie](https://stackoverflow.com/questions/49538185/purpose-of-numpy-log1p)).\n",
            "\n",
            "Dodatkowa korzyść z takiej transformacji jest taka, że regresja liniowa przewiduje dowolne wartości rzeczywiste. Po przekształceniu logarytmicznym jest to całkowicie ok, natomiast w oryginalnej przestrzeni trzeba by wymusić przewidywanie tylko wartości pozytywnych (negatywne ceny są bez sensu). Da się to zrobić, ale zwiększa to koszt obliczeniowy. Operowanie na tzw. log-price jest bardzo częste w finansach."
         ]
      },
      {
         "cell_type": "markdown",
         "metadata": {},
         "source": [
            "**Zadanie 2 (0.25 punktu)**\n",
            "\n",
            "Przekształć zmienną **SalePrice** za pomocą funkcji logarytmicznej `np.log1p`."
         ]
      },
      {
         "cell_type": "code",
         "execution_count": 153,
         "metadata": {
            "ExecuteTime": {
               "end_time": "2023-09-15T21:29:33.982163197Z",
               "start_time": "2023-09-15T21:29:33.815793944Z"
            }
         },
         "outputs": [],
         "source": [
            "# apply log transform\n",
            "df['SalePrice'] = np.log1p(df['SalePrice'])"
         ]
      },
      {
         "cell_type": "markdown",
         "metadata": {},
         "source": [
            "Sprawdźmy teraz jak rozkład **SalePrice** wygląda po transformacji:"
         ]
      },
      {
         "cell_type": "code",
         "execution_count": 154,
         "metadata": {
            "ExecuteTime": {
               "end_time": "2023-09-15T21:29:35.216598401Z",
               "start_time": "2023-09-15T21:29:35.051482952Z"
            }
         },
         "outputs": [
            {
               "data": {
                  "image/png": "[encoded data removed]",
                  "text/plain": [
                     "<Figure size 640x480 with 1 Axes>"
                  ]
               },
               "metadata": {},
               "output_type": "display_data"
            }
         ],
         "source": [
            "pd.Series(df[\"SalePrice\"]).hist()\n",
            "plt.title(\"Log sale price\")\n",
            "plt.show()"
         ]
      },
      {
         "cell_type": "markdown",
         "metadata": {},
         "source": [
            "### Uzupełnianie wartości brakujących"
         ]
      },
      {
         "cell_type": "markdown",
         "metadata": {},
         "source": [
            "Sprawdźmy też wartości brakujące. Są zmienne, które mają poniżej 10% wartości - takie zmienne dla modeli regresji liniowej są po prostu bezużyteczne, ponieważ brakujących wartości nie można wprost zamodelować. Znacząca liczba cech ma jednak co najmniej 10% braków. Z nich będziemy jednak starali się zrobić użytek."
         ]
      },
      {
         "cell_type": "code",
         "execution_count": 155,
         "metadata": {
            "ExecuteTime": {
               "end_time": "2023-09-15T21:37:04.538950013Z",
               "start_time": "2023-09-15T21:37:01.638196543Z"
            }
         },
         "outputs": [],
         "source": [
            "import missingno as msno\n",
            "\n",
            "# msno.bar(df)"
         ]
      },
      {
         "cell_type": "markdown",
         "metadata": {},
         "source": [
            "W ramach dalszego czyszczenia danych automatycznie uzupełnimy wartości brakujące. Trzeba tu jednak wziąć pod uwagę:\n",
            "- zmienne kategoryczne - nie można w nich dokonać zastąpienia wartości brakującej średnią, medianą itp.\n",
            "- wiele brakujących wartości - estymacja modą czy medianą byłaby niedokładna,\n",
            "- możliwość wykorzystania wiedzy o innych zmiennych na podstawie opisu cech.\n",
            "\n",
            "Można więc zastosować odpowiednią wiedzę i przyjąć wartości domyślne. Przykładowo, brak informacji o powierzchni piwnicy możemy uznać po prostu za brak piwnicy i wpisać tam odpowiednią wartość. W przypadku niektórych zmiennych może doprowadzić to do stworzenia nowej wartości, która implicite będzie reprezentować wartość brakującą.\n",
            "\n",
            "Znaczna część poniższej analizy została zainspirowana [tym notebookiem na Kaggle](https://www.kaggle.com/code/juliencs/a-study-on-regression-applied-to-the-ames-dataset)."
         ]
      },
      {
         "cell_type": "code",
         "execution_count": 156,
         "metadata": {
            "ExecuteTime": {
               "end_time": "2023-09-15T23:24:27.212091582Z",
               "start_time": "2023-09-15T23:24:27.122178104Z"
            }
         },
         "outputs": [],
         "source": [
            "def replace_na(df: pd.DataFrame, col: str, value) -> None:\n",
            "    df.loc[:, col] = df.loc[:, col].fillna(value)"
         ]
      },
      {
         "cell_type": "code",
         "execution_count": 157,
         "metadata": {
            "ExecuteTime": {
               "end_time": "2023-09-15T23:24:27.599968103Z",
               "start_time": "2023-09-15T23:24:27.445745089Z"
            }
         },
         "outputs": [],
         "source": [
            "# Alley : data description says NA means \"no alley access\"\n",
            "replace_na(df, \"Alley\", value=\"None\")\n",
            "\n",
            "# BedroomAbvGr : NA most likely means 0\n",
            "replace_na(df, \"BedroomAbvGr\", value=0)\n",
            "\n",
            "# BsmtQual etc : data description says NA for basement features is \"no basement\"\n",
            "replace_na(df, \"BsmtQual\", value=\"No\")\n",
            "replace_na(df, \"BsmtCond\", value=\"No\")\n",
            "replace_na(df, \"BsmtExposure\", value=\"No\")\n",
            "replace_na(df, \"BsmtFinType1\", value=\"No\")\n",
            "replace_na(df, \"BsmtFinType2\", value=\"No\")\n",
            "replace_na(df, \"BsmtFullBath\", value=0)\n",
            "replace_na(df, \"BsmtHalfBath\", value=0)\n",
            "replace_na(df, \"BsmtUnfSF\", value=0)\n",
            "\n",
            "# Condition : NA most likely means Normal\n",
            "replace_na(df, \"Condition1\", value=\"Norm\")\n",
            "replace_na(df, \"Condition2\", value=\"Norm\")\n",
            "\n",
            "# External stuff : NA most likely means average\n",
            "replace_na(df, \"ExterCond\", value=\"TA\")\n",
            "replace_na(df, \"ExterQual\", value=\"TA\")\n",
            "\n",
            "# Fence : data description says NA means \"no fence\"\n",
            "replace_na(df, \"Fence\", value=\"No\")\n",
            "\n",
            "# Functional : data description says NA means typical\n",
            "replace_na(df, \"Functional\", value=\"Typ\")\n",
            "\n",
            "# GarageType etc : data description says NA for garage features is \"no garage\"\n",
            "replace_na(df, \"GarageType\", value=\"No\")\n",
            "replace_na(df, \"GarageFinish\", value=\"No\")\n",
            "replace_na(df, \"GarageQual\", value=\"No\")\n",
            "replace_na(df, \"GarageCond\", value=\"No\")\n",
            "replace_na(df, \"GarageArea\", value=0)\n",
            "replace_na(df, \"GarageCars\", value=0)\n",
            "\n",
            "# HalfBath : NA most likely means no half baths above grade\n",
            "replace_na(df, \"HalfBath\", value=0)\n",
            "\n",
            "# HeatingQC : NA most likely means typical\n",
            "replace_na(df, \"HeatingQC\", value=\"Ta\")\n",
            "\n",
            "# KitchenAbvGr : NA most likely means 0\n",
            "replace_na(df, \"KitchenAbvGr\", value=0)\n",
            "\n",
            "# KitchenQual : NA most likely means typical\n",
            "replace_na(df, \"KitchenQual\", value=\"TA\")\n",
            "\n",
            "# LotFrontage : NA most likely means no lot frontage\n",
            "replace_na(df, \"LotFrontage\", value=0)\n",
            "\n",
            "# LotShape : NA most likely means regular\n",
            "replace_na(df, \"LotShape\", value=\"Reg\")\n",
            "\n",
            "# MasVnrType : NA most likely means no veneer\n",
            "replace_na(df, \"MasVnrType\", value=\"None\")\n",
            "replace_na(df, \"MasVnrArea\", value=0)\n",
            "\n",
            "# MiscFeature : data description says NA means \"no misc feature\"\n",
            "replace_na(df, \"MiscFeature\", value=\"No\")\n",
            "replace_na(df, \"MiscVal\", value=0)\n",
            "\n",
            "# OpenPorchSF : NA most likely means no open porch\n",
            "replace_na(df, \"OpenPorchSF\", value=0)\n",
            "\n",
            "# PavedDrive : NA most likely means not paved\n",
            "replace_na(df, \"PavedDrive\", value=\"N\")\n",
            "\n",
            "# PoolQC : data description says NA means \"no pool\"\n",
            "replace_na(df, \"PoolQC\", value=\"No\")\n",
            "replace_na(df, \"PoolArea\", value=0)\n",
            "\n",
            "# SaleCondition : NA most likely means normal sale\n",
            "replace_na(df, \"SaleCondition\", value=\"Normal\")\n",
            "\n",
            "# ScreenPorch : NA most likely means no screen porch\n",
            "replace_na(df, \"ScreenPorch\", value=0)\n",
            "\n",
            "# TotRmsAbvGrd : NA most likely means 0\n",
            "replace_na(df, \"TotRmsAbvGrd\", value=0)\n",
            "\n",
            "# Utilities : NA most likely means all public utilities\n",
            "replace_na(df, \"Utilities\", value=\"AllPub\")\n",
            "\n",
            "# WoodDeckSF : NA most likely means no wood deck\n",
            "replace_na(df, \"WoodDeckSF\", value=0)"
         ]
      },
      {
         "cell_type": "markdown",
         "metadata": {},
         "source": [
            "W przypadku wykonywania tego typu zmian - o ile istnieje taka możliwość - warto rozważyć różne interpretacje brakujących wartości. Może okazać się, że przyjęte przez nas założenia są błędne i prowadzą do pogorszenia działania modelu. Dlatego warto porównać jakoś predykcji z danymi uzupełnionymi oraz z danymi, w których kolumna z brakującymi wartościami jest po prostu usuwana."
         ]
      },
      {
         "cell_type": "markdown",
         "metadata": {},
         "source": [
            "**Zadanie 3 (0.5 punktu)**\n",
            "\n",
            "Z pomocą dokumentacji zmiennych w pliku [ames_description.txt](ames_description.txt) zdecyduj, jakie wartości domyślne przypisać zmiennym:\n",
            "- `CentralAir`\n",
            "- `EnclosedPorch`\n",
            "- `FireplaceQu` oraz `Fireplaces`\n",
            "- `SaleCondition`\n",
            "\n",
            "W praktyce niestety zwykle nie jest tak łatwo, że mamy dokumentację i ten krok zajmuje kilka godzin (lub dni) konsultacji z różnymi osobami w firmie :) \n",
            "Czasami w ogóle nie da się ustalić jaka wartość byłaby sensowna, ponieważ nie mamy żadnego dostępu do osób odpowiedzialnych za przygotowanie wykorzystywanego zbioru danych."
         ]
      },
      {
         "cell_type": "code",
         "execution_count": 158,
         "metadata": {},
         "outputs": [
            {
               "data": {
                  "image/png": "[encoded data removed]",
                  "text/plain": [
                     "<Figure size 640x480 with 5 Axes>"
                  ]
               },
               "metadata": {},
               "output_type": "display_data"
            }
         ],
         "source": [
            "plt.subplot(3,2,1)\n",
            "df['CentralAir'].hist()\n",
            "plt.title('CentralAir')\n",
            "\n",
            "plt.subplot(3,2,2)\n",
            "df['EnclosedPorch'].hist()\n",
            "plt.title('EnclosedPorch')\n",
            "\n",
            "plt.subplot(3,2,3)\n",
            "df['FireplaceQu'].hist()\n",
            "plt.title('FireplaceQu')\n",
            "\n",
            "plt.subplot(3,2,4)\n",
            "df['Fireplaces'].hist()\n",
            "plt.title('Fireplaces')\n",
            "\n",
            "plt.subplot(3,2,5)\n",
            "df['SaleCondition'].hist()\n",
            "plt.title('SaleCondition')\n",
            "\n",
            "plt.tight_layout()\n",
            "plt.show()\n",
            "\n"
         ]
      },
      {
         "cell_type": "code",
         "execution_count": 159,
         "metadata": {
            "ExecuteTime": {
               "end_time": "2023-09-15T23:24:29.533701007Z",
               "start_time": "2023-09-15T23:24:29.415321162Z"
            }
         },
         "outputs": [],
         "source": [
            "# your_code\n",
            "# CentralAir : Most homes CentralAir so Y\n",
            "replace_na(df, \"CentralAir\", value=\"Y\")\n",
            "\n",
            "# EnclosedPorch : NA most likely means no enclosed porch\n",
            "replace_na(df, \"EnclosedPorch\", value=0)\n",
            "\n",
            "# Fireplaces : NA most likely means no fireplaces\n",
            "replace_na(df, \"Fireplaces\", value=0)\n",
            "\n",
            "# FireplaceQu : NA most likely means no fireplaces, and no quality \n",
            "replace_na(df, \"FireplaceQu\", value=\"No\")\n",
            "\n",
            "# SaleCondition : NA most likely means normal\n",
            "replace_na(df, \"SaleCondition\", value=\"Normal\")\n"
         ]
      },
      {
         "cell_type": "markdown",
         "metadata": {},
         "source": [
            "### Dane kategoryczne"
         ]
      },
      {
         "cell_type": "markdown",
         "metadata": {},
         "source": [
            "Jak już zdążyliśmy zauważyć, istnieją dwa główne rodzaje danych: numeryczne (*numerical data*) oraz kategoryczne (*categorical data*). Ten podział jest bardzo istotny. Dane numeryczne to żadna niespodzianka, po prostu mają swoją wartość, jak np. **GrLivArea**, czyli powierzchnia budynku/apartamentów. Dane kategoryczne to takie, którym w większości przypadków nie można przyporządkować wartości liczbowej (wyjątkiem są dane kategoryczne uporządkowane - *categorical ordinal*).\n",
            "\n",
            "Wyobraź sobie zmienną reprezentującą kolory o wartościach \"red\", \"green\" i \"blue. Jeżeli zakodowałbyś je np. jako $red = 0$, $green = 1$, $blue = 2$, to stwierdzasz tym samym, że w pewnym sensie $red < green < blue$. Raczej nie ma powodu, żeby tak sądzić. Jest to zmienna, która ma skończoną liczbę wartości, ale są one nieuporządkowane. Taki typ to zmienne *categorical nominal*.\n",
            "\n",
            "Szczególnym przypadkiem są zmienne binarne (*boolean*). Jest to u nas kolumna **CentralAir** (Central Air Conditioning). Z opisu w pliku [ames_description.txt](ames_description.txt) wiemy, że przyjmuje ona dokładnie dwie wartości kategoryczne: *No* oraz *Yes*. W takiej sytuacji wolno zakodować te wartości numerycznie jako 0 i 1. Stwierdzasz tym samym, że klimatyzacja albo jest, albo jej nie ma.\n",
            "\n",
            "Sytuacją podobną, chociaż mniej oczywistą, może być zmienna **Street**, opisująca typ drogi wiodącej do nieruchomości. Jeśli znowu spojrzymy do opisu danych, to można zauważyć, że ta zmienna może przyjmować tylko dwie różne wartości - *Grvl* i *Pave*. I tu też możemy sobie pozwolić na zakodowanie tych wartości jako 0 i 1. Stwierdzamy wtedy, że droga jest *utwardzona* (Pave) dla wartości 1. Oczywiście równie dobrze można by zakodować to odwrotnie i stwierdzić, że droga jest *nieutwardzona* (Grvl) gdy wartość wynosi 1."
         ]
      },
      {
         "cell_type": "markdown",
         "metadata": {},
         "source": [
            "W Pandas typy numeryczne są oparte o NumPy (np. `np.int64`), a zmienne kategoryczne, napisy itp. są typu `object` (typ `Categorical` istnieje od pewnego czasu, ale nie jest jeszcze zbyt dobrze wspierany).\n",
            "\n",
            "Zmienne **MSSubClass** oraz **MoSold** są kategoryczne (tak wynika z informacji zawartej w pliku [ames_description.txt](ames_description.txt)), a są w naszych danych wprost liczbami. Przekształćmy je zatem do poprawnego typu."
         ]
      },
      {
         "cell_type": "code",
         "execution_count": 160,
         "metadata": {
            "ExecuteTime": {
               "end_time": "2023-09-15T23:24:31.301156832Z",
               "start_time": "2023-09-15T23:24:31.205139018Z"
            }
         },
         "outputs": [],
         "source": [
            "df = df.replace(\n",
            "    {\n",
            "        \"MSSubClass\": {\n",
            "            20: \"SC20\",\n",
            "            30: \"SC30\",\n",
            "            40: \"SC40\",\n",
            "            45: \"SC45\",\n",
            "            50: \"SC50\",\n",
            "            60: \"SC60\",\n",
            "            70: \"SC70\",\n",
            "            75: \"SC75\",\n",
            "            80: \"SC80\",\n",
            "            85: \"SC85\",\n",
            "            90: \"SC90\",\n",
            "            120: \"SC120\",\n",
            "            150: \"SC150\",\n",
            "            160: \"SC160\",\n",
            "            180: \"SC180\",\n",
            "            190: \"SC190\",\n",
            "        },\n",
            "        \"MoSold\": {\n",
            "            1: \"Jan\",\n",
            "            2: \"Feb\",\n",
            "            3: \"Mar\",\n",
            "            4: \"Apr\",\n",
            "            5: \"May\",\n",
            "            6: \"Jun\",\n",
            "            7: \"Jul\",\n",
            "            8: \"Aug\",\n",
            "            9: \"Sep\",\n",
            "            10: \"Oct\",\n",
            "            11: \"Nov\",\n",
            "            12: \"Dec\",\n",
            "        },\n",
            "    }\n",
            ")"
         ]
      },
      {
         "cell_type": "markdown",
         "metadata": {},
         "source": [
            "Oprócz tego zakodujemy zmienne kategoryczne uporządkowane (*categorical ordinal*) z tekstowych na kolejne liczby całkowite.\n",
            "\n",
            "Przykładowo zmienna **BsmtCond**, oceniająca stan piwnicy, ma następujące możliwe wartości:\n",
            "* *NA* (No) Basement\n",
            "* *Po* (Poor) - Severe cracking, settling, or wetness\n",
            "* *Fa* (Fair) - dampness or some cracking or settling\n",
            "* *TA* (Typical) - slight dampness allowed\n",
            "* *Gd* (Good)\n",
            "* *Ex* (Excellent)\n",
            "\n",
            "Do następujących wartości możemy dopasować pewną skalę punktową, bo są one naturalnie uporządkowane."
         ]
      },
      {
         "cell_type": "code",
         "execution_count": 161,
         "metadata": {
            "ExecuteTime": {
               "end_time": "2023-09-15T23:44:44.949727320Z",
               "start_time": "2023-09-15T23:44:44.821182382Z"
            }
         },
         "outputs": [],
         "source": [
            "df = df.replace(\n",
            "    {\n",
            "        \"Alley\": {\"None\": 0, \"Grvl\": 1, \"Pave\": 2},\n",
            "        \"BsmtCond\": {\"No\": 0, \"Po\": 1, \"Fa\": 2, \"TA\": 3, \"Gd\": 4, \"Ex\": 5},\n",
            "        \"BsmtExposure\": {\"No\": 0, \"Mn\": 1, \"Av\": 2, \"Gd\": 3},\n",
            "        \"BsmtFinType1\": {\n",
            "            \"No\": 0,\n",
            "            \"Unf\": 1,\n",
            "            \"LwQ\": 2,\n",
            "            \"Rec\": 3,\n",
            "            \"BLQ\": 4,\n",
            "            \"ALQ\": 5,\n",
            "            \"GLQ\": 6,\n",
            "        },\n",
            "        \"BsmtFinType2\": {\n",
            "            \"No\": 0,\n",
            "            \"Unf\": 1,\n",
            "            \"LwQ\": 2,\n",
            "            \"Rec\": 3,\n",
            "            \"BLQ\": 4,\n",
            "            \"ALQ\": 5,\n",
            "            \"GLQ\": 6,\n",
            "        },\n",
            "        \"BsmtQual\": {\"No\": 0, \"Po\": 1, \"Fa\": 2, \"TA\": 3, \"Gd\": 4, \"Ex\": 5},\n",
            "        \"ExterCond\": {\"Po\": 1, \"Fa\": 2, \"TA\": 3, \"Gd\": 4, \"Ex\": 5},\n",
            "        \"ExterQual\": {\"Po\": 1, \"Fa\": 2, \"TA\": 3, \"Gd\": 4, \"Ex\": 5},\n",
            "        \"FireplaceQu\": {\"No\": 0, \"Po\": 1, \"Fa\": 2, \"TA\": 3, \"Gd\": 4, \"Ex\": 5},\n",
            "        \"Functional\": {\n",
            "            \"Sal\": 1,\n",
            "            \"Sev\": 2,\n",
            "            \"Maj2\": 3,\n",
            "            \"Maj1\": 4,\n",
            "            \"Mod\": 5,\n",
            "            \"Min2\": 6,\n",
            "            \"Min1\": 7,\n",
            "            \"Typ\": 8,\n",
            "        },\n",
            "        \"GarageCond\": {\"No\": 0, \"Po\": 1, \"Fa\": 2, \"TA\": 3, \"Gd\": 4, \"Ex\": 5},\n",
            "        \"GarageQual\": {\"No\": 0, \"Po\": 1, \"Fa\": 2, \"TA\": 3, \"Gd\": 4, \"Ex\": 5},\n",
            "        \"HeatingQC\": {\"Po\": 1, \"Fa\": 2, \"TA\": 3, \"Gd\": 4, \"Ex\": 5},\n",
            "        \"KitchenQual\": {\"Po\": 1, \"Fa\": 2, \"TA\": 3, \"Gd\": 4, \"Ex\": 5},\n",
            "        \"LandSlope\": {\"Sev\": 1, \"Mod\": 2, \"Gtl\": 3},\n",
            "        \"LotShape\": {\"IR3\": 1, \"IR2\": 2, \"IR1\": 3, \"Reg\": 4},\n",
            "        \"PavedDrive\": {\"N\": 0, \"P\": 1, \"Y\": 2},\n",
            "        \"PoolQC\": {\"No\": 0, \"Fa\": 1, \"TA\": 2, \"Gd\": 3, \"Ex\": 4},\n",
            "        \"Street\": {\"Grvl\": 0, \"Pave\": 1},\n",
            "        \"Utilities\": {\"ELO\": 1, \"NoSeWa\": 2, \"NoSewr\": 3, \"AllPub\": 4},\n",
            "    }\n",
            ")"
         ]
      },
      {
         "cell_type": "markdown",
         "metadata": {},
         "source": [
            "## Przygotowanie danych do uczenia\n"
         ]
      },
      {
         "cell_type": "markdown",
         "metadata": {},
         "source": [
            "Nasz zbiór podzielimy na dwa podzbiory: treningowy (70%) i testowy (30%). Zbiór treningowy pozwoli nam utworzyć model regresji liniowej, natomiast testowy - oszacować jego jakość.\n",
            "\n",
            "Pamiętaj, że wyniki uzyskiwane przez model na danych treningowych nie odzwierciedlają tego, jak będzie on sobie radził na danych, których nie ma w zbiorze uczącym. Aby uzyskać taką informację, konieczne jest sprawdzenie, jak model radzi sobie na danych testowych. Daje nam to oszacowanie, jak dobrze model **generalizuje się** dla nowych danych.\n",
            "\n",
            "Wydzielimy sobie równeż zbiory kolumn z danymi numerycznymi i kategorycznymi, co później ułatwi nam odwoływanie się do nich.\n",
            "\n",
            "Funkcja `train_test_split` z biblioteki Scikit-Learn przyjmuje osobno macierze dla cech (*features*) i etykiet (*labels*), dlatego wyodrębniamy sobie z naszej tablicy kolumnę **SalePrice**, która zawiera ceny nieruchomości.\n",
            "\n",
            "---\n",
            "#### *Ciekawostka*\n",
            "\n",
            "Można zauważyć, że zmienna `y` jest małą literą, natomiast `X_train` czy `X_test` są z dużej. Są to konwencje pochodzące z matematyki:\n",
            "\n",
            "* wektor w matematyce często oznaczamy małą pogrubioną literą ($\\textbf{y}$) - w programowaniu natomiast oznaczamy po prostu małą literą - `y`\n",
            "* macierz w matematyce oznaczamy dużą pogrubioną literą ($\\textbf{X}$) - w programowaniu po prostu dużą literą - `X`\n",
            "\n",
            "Zbiór etykiet to w naszym przypadku wektor cen, więc zapisujemy `y` małą literą. Z drugiej strony `X` zawiera kolumny z cechami opisującymi poszczególne rekordy, a więc jest to macierz.\n",
            "\n",
            "---\n",
            "\n",
            "**Uwaga**: w eksperymentach ustalamy na sztywno wartość parametru `random_state`. [Doczytaj](https://scikit-learn.org/stable/glossary.html#term-random_state), dlaczego wykorzystywany jest ten parametr i co się dzieje, gdy jest on równy stałej wartości jak zero."
         ]
      },
      {
         "cell_type": "code",
         "execution_count": 162,
         "metadata": {},
         "outputs": [],
         "source": [
            "from sklearn.model_selection import train_test_split\n",
            "\n",
            "y = df.pop(\"SalePrice\")\n",
            "\n",
            "categorical_features = df.select_dtypes(include=\"object\").columns\n",
            "numerical_features = df.select_dtypes(exclude=\"object\").columns\n",
            "\n",
            "X_train, X_test, y_train, y_test = train_test_split(\n",
            "    df, y, test_size=0.3, random_state=0\n",
            ")"
         ]
      },
      {
         "cell_type": "markdown",
         "metadata": {},
         "source": [
            "Teraz trzeba dokonać transformacji naszych danych:\n",
            "- zmienne kategoryczne nieuporządkowane trzeba przetworzyć tak, aby nasz algorym był w stanie je obsłużyć, czyli je zakodować za pomocą **one-hot encoding**,\n",
            "- zmienne numeryczne dalej mogą mieć wartości brakujące, więc trzeba je uzupełnić, inaczej **imputować (impute)**,\n",
            "- zmienne numeryczne trzeba przeskalować do zakresu wartości $[0, 1]$ czyli je **znormalizować (normalization)** przez zastosowanie **min-max scaling**.\n"
         ]
      },
      {
         "cell_type": "markdown",
         "metadata": {},
         "source": [
            "\n",
            "### Kodowanie one-hot encoding\n",
            "\n",
            "Powyżej omawialiśmy zmienne kategoryczne. Typ *categorical ordinal* można zakodować kolejnymi liczbami całkowitymi, co jest oczywiście proste. Co jednak ze zmiennymi bez kolejności, typu *categorical nominal*? Trzeba je dalej przekształcić na liczby (żeby model był w stanie je przetworzyć), ale tak, aby nie nadać im implicite kolejności.\n",
            "\n",
            "Spójrzmy na kolumnę **Neighborhood**, oznaczającą poszczególne dzielnice. Dom znajduje się tylko w jednej dzielnicy, a w pozostałych go nie ma. Idea kodowania **one-hot encoding** polega na stworzeniu tylu zmiennych, ile jest możliwych wartości, a następnie w każdym wierszu przypisanie wartości 1 w tej kolumnie, z której była oryginalnie zmienna.\n",
            "\n",
            "Przykładowo, jeżeli mielibyśmy 3 wartości `[\"A\", \"B\", \"C\"]`, to powstają z nich 3 cechy (kolumny macierzy `X`) `[col_A, col_B, col_C]`. Wiersz z pierwotną wartością `\"B\"` będzie miał wartości tych cech `[0, 1, 0]`. W przypadku naszej zmiennej **Neighborhood** pojawią się osobne zmienne **Old Town**, **NoRidge**, **Gilbert** itd., a dla każdego wiersza dokładnie jedna z nich będzie miała wartość 1.\n",
            "\n",
            "#### Dla zainteresowanych\n",
            "\n",
            "Jeżeli mamy dużo możliwych wartości, czyli zmienną o dużej **kardynalności (cardinality)**, to kolumn powstanie bardzo dużo. Do tego są **rzadkie (sparse)**, więc tracimy dużo pamięci na przechowywanie zer. Istnieją inne kodowania, które zajmują mniej miejsca, a implementuje je biblioteka [Category Encoders](https://contrib.scikit-learn.org/category_encoders/).\n"
         ]
      },
      {
         "cell_type": "markdown",
         "metadata": {},
         "source": [
            "### Imputacja brakujących wartości numerycznych\n",
            "\n",
            "Wcześniej już napotkaliśmy wartości brakujące i postaraliśmy się uzupełnić je jak najlepiej potrafiliśmy, używając dokumentacji naszego zbioru. Nie gwarantuje to jednak usunięcia wszystkich braków. Nie zawsze w praktyce da się też tak łatwo znaleźć wartości do uzupełnienia. W przypadku zwykłych cech numerycznych możemy zastosować jedną z kilku bardzo popularnych strategii radzenia sobie z wartościami brakującymi:\n",
            "\n",
            "1. Usunąć kolumnę, która zawiera brakujące wartości.\n",
            "1. Usunąć wiersze, w których brakuje wartości.\n",
            "1. Zastąpić brakujące wartości innymi, np. średnią z kolumny, medianą albo wartością stałą.\n",
            "1. Przewidzieć brakujące wartości wykorzystując odpowiedni model uczenia maszynowego.\n",
            "\n",
            "Podejście 4 jest często zbyt czasochłonne. Opcje 1 i 2 prowadzą do utraty danych. My wypróbujemy sposób nr 3.\n",
            "\n",
            "Nie znaczy to jednak, że usunięcie wierszy czy kolumny jest zawsze złym podejściem. Usunięcie kolumny jest uzasadnione, jeśli ma ona naprawdę dużo wartości brakujących. W takich wypadkach ciężko z niej wyciągnąć jakąkolwiek sensowną informację. Usunięcie wierszy może być uzasadnione w przypadku, gdy mamy dużo rekordów i tylko niewielka część z nich posiada wartości brakujące (usunięcie kilku wierszy nie powinno powodować problemu).\n",
            "\n",
            "#### Dla zainteresowanych\n",
            "\n",
            "Popularne algorytmy imputacji danych często są oparte [o algorytm najbliższych sąsiadów, czyli najbardziej podobne punkty](https://scikit-learn.org/stable/modules/impute.html#nearest-neighbors-imputation). Innym podejściem, iteracyjnie imputującym wartości, jest [algorytm MICE](https://www.numpyninja.com/post/mice-algorithm-to-impute-missing-values-in-a-dataset).\n"
         ]
      },
      {
         "cell_type": "markdown",
         "metadata": {},
         "source": [
            "### Skalowanie\n",
            "\n",
            "Jest to bardzo ważny krok dla wielu modeli sztucznej inteligencji. Często takie modele mają pewne założenia co do danych wejściowych, a szczególnie popularnym założeniem jest, że wszystkie cechy mają wartości o podobnej skali. W szczególności regresja liniowa i logistyczna też czynią to założenie. Dlatego trzeba przeskalować nasze dane, żeby spełnić to założenie. Najprostsza metoda to `MinMaxScaler`, który przekształca wszystkie wartości do przedziału $[0, 1]$.\n",
            "\n",
            "Istnieją też inne metody, np. standaryzacja, którą możesz pamiętać ze statystyki (jej wynikiem jest Z-score). Polega na odjęciu średniej i podzieleniu przez odchylenie standardowe każdej cechy. Wynikiem przekształcenia są cechy o średniej 0 i odchyleniu standardowym 1.\n",
            "\n",
            "Więcej informacji na temat tego, dlaczego skalowanie jest tak istotne, możesz znaleźć [tutaj](https://analyticsindiamag.com/why-data-scaling-is-important-in-machine-learning-how-to-effectively-do-it/).\n",
            "\n",
            "#### Dla zainteresowanych\n",
            "\n",
            "Porównanie różnych metod skalowania [możesz znaleźć tutaj](https://scikit-learn.org/stable/auto_examples/preprocessing/plot_all_scaling.html). Ciekawą metodą jest np. RobustScaler, który jest podobny do StandardScaler, ale używa mediany i kwartyli zamiast średniej i odchylenia standardowego. Są to tzw. robust statistics, czyli miary odporne na występowanie wartości odstających (outliers)."
         ]
      },
      {
         "cell_type": "markdown",
         "metadata": {},
         "source": [
            "## Przetwarzanie danych z wykorzystaniem Scikit-Learn\n",
            "\n",
            "Mamy zatem do wykonania:\n",
            "- na zmiennych numerycznych 2 operacje do wykonania: imputacja i skalowanie,\n",
            "- na zmiennych kategorycznych: zastosowanie kodowania one-hot encoding.\n",
            "\n",
            "W Scikit-learn służą do tego następujące klasy:\n",
            "- `OneHotEncoder`, `SimpleImputer`, `MinMaxScaler` - transformacje, implementują metody `.fit()` i `.transform()`,\n",
            "- `Pipeline` - do układania transformacji sekwencyjnie,\n",
            "- `ColumnTransformer` - do układania transformacji równolegle, dla różnych kolumn.\n",
            "\n",
            "**Ważne:** jako, że zaraz skorzystamy z regresji liniowej, do klasy `OneHotEncoder` trzeba przekazać `drop=\"first\"`. Stworzy to 1 zmienną mniej, niż typowy one-hot encoding, np. `pd.get_dummies()`, gwarantując brak **idealnie współliniowych zmiennych (perfectly collinear features)**, co byłby niestabilny numerycznie. Dodatkowo, jako że przekształcamy już po podziale na zbiór treningowy i testowy, to możemy spotkać na zbiorze testowym nieliczne przypadki kategorii, których nie ma w zbiorze treningowym - kodujemy je wtedy po prostu jako wektory zer za pomocą `handle_unknown=\"ignore\"`.\n",
            "\n",
            "Na przykładzie `StandardScaler` (standaryzacja) rozpatrzmy, jak działają poszczególne metody.\n"
         ]
      },
      {
         "cell_type": "markdown",
         "metadata": {},
         "source": [
            "### Metoda `.fit()`\n",
            "\n",
            "Do wykonania standaryzacji potrzebujemy dla każdej z cech określić 2 wartości - średnią oraz odchylenie standardowe. Formuła standaryzacji dla przypomnienia:\n",
            "\n",
            "$$z = \\frac{x - \\mu}{\\sigma}$$\n",
            "\n",
            "Metodę `.fit()` wykonujemy tylko raz, dla **danych treningowych**. To powoduje, że obliczamy wartości $\\mu$ oraz $\\sigma$ dla każdej cechy, na podstawie wartości ze zbioru treningowego. Wyuczone wartości zostają zapisane w obiekcie `StandardScaler` i mogą być później używane do przeprowadzenia standaryzacji zarówno dla danych treningowych, jak i testowych.\n",
            "\n",
            "**Co, gdyby dla danych testowych przeprowadzić osobną standaryzację?**\n",
            "\n",
            "Będziemy, na przykład, standaryzować kolumnę **GrLivArea** - powierzchnię nieruchomości. Załóżmy, że z danych treningowych wyszłoby, że średnia jest równa $60m^2$, a odchylenie standardowe - $20m^2$. Wtedy wartości z przedziału $[40, 80]$ zostaną przekształcone do $[-1, 1]$. Nasz model wykorzysta to przekształcenie i będzie uważał, że wartości po transformacji w pobliżu $0$ oznaczają średniej wielkości apartamenty.\n",
            "\n",
            "Określiliśmy parametry modelu i dostajemy kilkadziesiąt budynków z jakiejś zamożnej dzielnicy dla predykcji. Średnia powierzchnia dla tych budynków to około $160m^2$. Osobno przeprowadzając standaryzację dla takich danych testowych, zaburzylibyśmy rozkład tej cechy, gdyż tym razem wartości wokół $0$ oznaczałyby dość duże mieszkania. Modele są niezwykle czułe na podobne zaburzenia - musimy przetwarzać dane spójnie, żeby nie doszło do podobnych sytuacji. \n",
            "\n",
            "**Czemu nie wywołać `.fit()` na wszystkich danych, a nie tylko treningowych?**\n",
            "\n",
            "Wydzieliliśmy dane testowe po to, żeby sprawdzać, jak model poradzi sobie z danymi, których do tej pory nigdy nie widział, bo to właśnie takie dane będzie on dostawać w praktyce, po wdrożeniu do realnego systemu. Ta ocena obejmuje też etap preprocessingu, w tym skalowania. Więc jeśli etap preprocessingu zobaczy dane testowe, to nie będziemy w stanie uczciwie estymować jego zachowania na nowych danych.\n",
            "\n",
            "Wykorzystanie danych testowych w procesie treningu to błąd **wycieku danych (data leakage)**. Skutkuje on niepoprawnym, nadmiernie optymistycznym oszacowaniem jakości modelu.\n"
         ]
      },
      {
         "cell_type": "markdown",
         "metadata": {},
         "source": [
            "### Metoda `.transform()`\n",
            "\n",
            "Przekształca dane za pomocą parametrów wyznaczonych w `.fit()`.\n",
            "\n",
            "### Metoda `.fit_transform()`\n",
            "\n",
            "Metoda, która najpierw wykonuje `.fit()`, a potem `.transform()` i zwraca wynik ostatniej. W przypadku niektórych transformacji wykorzystuje ich specyfikę i działa szybciej, niż sekwencyjne wywołanie `.fit()` oraz`.transform()`. Trzeba jednak pamiętać, że możemy tego użyć tylko na zbiorze treningowym - na zbiorze testowym wywołujemy już tylko `.transform()`.\n",
            "\n",
            "**Zadanie 4 (0.5 punktu)**\n",
            "\n",
            "Stwórz pipeline'y dla zmiennych kategorycznych i numerycznych. Połącz je następnie z użyciem `ColumnTransformer`. \"Wytrenuj\" go na danych treningowych, a następnie przetransformuj dane treningowe oraz testowe.\n",
            "\n",
            "**Uwaga:** przekaż do `ColumnTransformer` parametr `verbose_feature_names_out=False`, żeby nie zmieniał on nazw cech. Ułatwi nam to późniejszą analizę wyników."
         ]
      },
      {
         "cell_type": "code",
         "execution_count": 163,
         "metadata": {
            "ExecuteTime": {
               "end_time": "2023-09-16T19:33:06.290225746Z",
               "start_time": "2023-09-16T19:33:04.939828812Z"
            },
            "scrolled": true
         },
         "outputs": [
            {
               "name": "stderr",
               "output_type": "stream",
               "text": [
                  "c:\\Users\\Nicolas\\Documents\\Semestr V\\Podstawy Sztucznej Inteligencji\\sztuczna-inteligencja\\.conda\\lib\\site-packages\\sklearn\\preprocessing\\_encoders.py:227: UserWarning: Found unknown categories in columns [12, 15, 17] during transform. These unknown categories will be encoded as all zeros\n",
                  "  warnings.warn(\n"
               ]
            }
         ],
         "source": [
            "from sklearn.compose import ColumnTransformer\n",
            "from sklearn.impute import SimpleImputer\n",
            "from sklearn.pipeline import Pipeline\n",
            "from sklearn.preprocessing import OneHotEncoder, MinMaxScaler\n",
            "\n",
            "\n",
            "one_hot_encoder = OneHotEncoder(\n",
            "    drop=\"first\", sparse_output=False, handle_unknown=\"ignore\"\n",
            ")\n",
            "median_imputer = SimpleImputer(strategy=\"median\")\n",
            "min_max_scaler = MinMaxScaler()\n",
            "\n",
            "categorical_pipeline = Pipeline([\n",
            "    (\"encoder\", one_hot_encoder)\n",
            "])\n",
            "\n",
            "numerical_pipeline = Pipeline([\n",
            "    (\"imputer\", median_imputer),\n",
            "    (\"scaler\", min_max_scaler)\n",
            "])\n",
            "\n",
            "column_transformer = ColumnTransformer([\n",
            "    ('numerical', numerical_pipeline, numerical_features),\n",
            "    ('categorical', categorical_pipeline, categorical_features)\n",
            "], verbose_feature_names_out=False)\n",
            "\n",
            "column_transformer = ColumnTransformer([\n",
            "    ('categorical', categorical_pipeline, categorical_features),\n",
            "    ('numerical', numerical_pipeline, numerical_features),\n",
            "], verbose_feature_names_out=False)\n",
            "\n",
            "# fit and transform\n",
            "X_train = column_transformer.fit_transform(X_train)\n",
            "X_test = column_transformer.transform(X_test)"
         ]
      },
      {
         "cell_type": "code",
         "execution_count": 164,
         "metadata": {},
         "outputs": [
            {
               "data": {
                  "text/html": [
                     "<style>#sk-container-id-8 {color: black;}#sk-container-id-8 pre{padding: 0;}#sk-container-id-8 div.sk-toggleable {background-color: white;}#sk-container-id-8 label.sk-toggleable__label {cursor: pointer;display: block;width: 100%;margin-bottom: 0;padding: 0.3em;box-sizing: border-box;text-align: center;}#sk-container-id-8 label.sk-toggleable__label-arrow:before {content: \"▸\";float: left;margin-right: 0.25em;color: #696969;}#sk-container-id-8 label.sk-toggleable__label-arrow:hover:before {color: black;}#sk-container-id-8 div.sk-estimator:hover label.sk-toggleable__label-arrow:before {color: black;}#sk-container-id-8 div.sk-toggleable__content {max-height: 0;max-width: 0;overflow: hidden;text-align: left;background-color: #f0f8ff;}#sk-container-id-8 div.sk-toggleable__content pre {margin: 0.2em;color: black;border-radius: 0.25em;background-color: #f0f8ff;}#sk-container-id-8 input.sk-toggleable__control:checked~div.sk-toggleable__content {max-height: 200px;max-width: 100%;overflow: auto;}#sk-container-id-8 input.sk-toggleable__control:checked~label.sk-toggleable__label-arrow:before {content: \"▾\";}#sk-container-id-8 div.sk-estimator input.sk-toggleable__control:checked~label.sk-toggleable__label {background-color: #d4ebff;}#sk-container-id-8 div.sk-label input.sk-toggleable__control:checked~label.sk-toggleable__label {background-color: #d4ebff;}#sk-container-id-8 input.sk-hidden--visually {border: 0;clip: rect(1px 1px 1px 1px);clip: rect(1px, 1px, 1px, 1px);height: 1px;margin: -1px;overflow: hidden;padding: 0;position: absolute;width: 1px;}#sk-container-id-8 div.sk-estimator {font-family: monospace;background-color: #f0f8ff;border: 1px dotted black;border-radius: 0.25em;box-sizing: border-box;margin-bottom: 0.5em;}#sk-container-id-8 div.sk-estimator:hover {background-color: #d4ebff;}#sk-container-id-8 div.sk-parallel-item::after {content: \"\";width: 100%;border-bottom: 1px solid gray;flex-grow: 1;}#sk-container-id-8 div.sk-label:hover label.sk-toggleable__label {background-color: #d4ebff;}#sk-container-id-8 div.sk-serial::before {content: \"\";position: absolute;border-left: 1px solid gray;box-sizing: border-box;top: 0;bottom: 0;left: 50%;z-index: 0;}#sk-container-id-8 div.sk-serial {display: flex;flex-direction: column;align-items: center;background-color: white;padding-right: 0.2em;padding-left: 0.2em;position: relative;}#sk-container-id-8 div.sk-item {position: relative;z-index: 1;}#sk-container-id-8 div.sk-parallel {display: flex;align-items: stretch;justify-content: center;background-color: white;position: relative;}#sk-container-id-8 div.sk-item::before, #sk-container-id-8 div.sk-parallel-item::before {content: \"\";position: absolute;border-left: 1px solid gray;box-sizing: border-box;top: 0;bottom: 0;left: 50%;z-index: -1;}#sk-container-id-8 div.sk-parallel-item {display: flex;flex-direction: column;z-index: 1;position: relative;background-color: white;}#sk-container-id-8 div.sk-parallel-item:first-child::after {align-self: flex-end;width: 50%;}#sk-container-id-8 div.sk-parallel-item:last-child::after {align-self: flex-start;width: 50%;}#sk-container-id-8 div.sk-parallel-item:only-child::after {width: 0;}#sk-container-id-8 div.sk-dashed-wrapped {border: 1px dashed gray;margin: 0 0.4em 0.5em 0.4em;box-sizing: border-box;padding-bottom: 0.4em;background-color: white;}#sk-container-id-8 div.sk-label label {font-family: monospace;font-weight: bold;display: inline-block;line-height: 1.2em;}#sk-container-id-8 div.sk-label-container {text-align: center;}#sk-container-id-8 div.sk-container {/* jupyter's `normalize.less` sets `[hidden] { display: none; }` but bootstrap.min.css set `[hidden] { display: none !important; }` so we also need the `!important` here to be able to override the default hidden behavior on the sphinx rendered scikit-learn.org. See: https://github.com/scikit-learn/scikit-learn/issues/21755 */display: inline-block !important;position: relative;}#sk-container-id-8 div.sk-text-repr-fallback {display: none;}</style><div id=\"sk-container-id-8\" class=\"sk-top-container\"><div class=\"sk-text-repr-fallback\"><pre>ColumnTransformer(transformers=[(&#x27;categorical&#x27;,\n",
                     "                                 Pipeline(steps=[(&#x27;encoder&#x27;,\n",
                     "                                                  OneHotEncoder(drop=&#x27;first&#x27;,\n",
                     "                                                                handle_unknown=&#x27;ignore&#x27;,\n",
                     "                                                                sparse_output=False))]),\n",
                     "                                 Index([&#x27;MSSubClass&#x27;, &#x27;MSZoning&#x27;, &#x27;LandContour&#x27;, &#x27;LotConfig&#x27;, &#x27;Neighborhood&#x27;,\n",
                     "       &#x27;Condition1&#x27;, &#x27;Condition2&#x27;, &#x27;BldgType&#x27;, &#x27;HouseStyle&#x27;, &#x27;RoofStyle&#x27;,\n",
                     "       &#x27;RoofMatl&#x27;, &#x27;Exterior1st&#x27;, &#x27;Exterior2nd&#x27;, &#x27;MasVnrType&#x27;, &#x27;Foundation&#x27;,\n",
                     "       &#x27;H...\n",
                     "       &#x27;BsmtHalfBath&#x27;, &#x27;FullBath&#x27;, &#x27;HalfBath&#x27;, &#x27;BedroomAbvGr&#x27;, &#x27;KitchenAbvGr&#x27;,\n",
                     "       &#x27;KitchenQual&#x27;, &#x27;TotRmsAbvGrd&#x27;, &#x27;Functional&#x27;, &#x27;Fireplaces&#x27;,\n",
                     "       &#x27;FireplaceQu&#x27;, &#x27;GarageYrBlt&#x27;, &#x27;GarageCars&#x27;, &#x27;GarageArea&#x27;, &#x27;GarageQual&#x27;,\n",
                     "       &#x27;GarageCond&#x27;, &#x27;PavedDrive&#x27;, &#x27;WoodDeckSF&#x27;, &#x27;OpenPorchSF&#x27;,\n",
                     "       &#x27;EnclosedPorch&#x27;, &#x27;X3SsnPorch&#x27;, &#x27;ScreenPorch&#x27;, &#x27;PoolArea&#x27;, &#x27;PoolQC&#x27;,\n",
                     "       &#x27;MiscVal&#x27;, &#x27;YrSold&#x27;],\n",
                     "      dtype=&#x27;object&#x27;))],\n",
                     "                  verbose_feature_names_out=False)</pre><b>In a Jupyter environment, please rerun this cell to show the HTML representation or trust the notebook. <br />On GitHub, the HTML representation is unable to render, please try loading this page with nbviewer.org.</b></div><div class=\"sk-container\" hidden><div class=\"sk-item sk-dashed-wrapped\"><div class=\"sk-label-container\"><div class=\"sk-label sk-toggleable\"><input class=\"sk-toggleable__control sk-hidden--visually\" id=\"sk-estimator-id-30\" type=\"checkbox\" ><label for=\"sk-estimator-id-30\" class=\"sk-toggleable__label sk-toggleable__label-arrow\">ColumnTransformer</label><div class=\"sk-toggleable__content\"><pre>ColumnTransformer(transformers=[(&#x27;categorical&#x27;,\n",
                     "                                 Pipeline(steps=[(&#x27;encoder&#x27;,\n",
                     "                                                  OneHotEncoder(drop=&#x27;first&#x27;,\n",
                     "                                                                handle_unknown=&#x27;ignore&#x27;,\n",
                     "                                                                sparse_output=False))]),\n",
                     "                                 Index([&#x27;MSSubClass&#x27;, &#x27;MSZoning&#x27;, &#x27;LandContour&#x27;, &#x27;LotConfig&#x27;, &#x27;Neighborhood&#x27;,\n",
                     "       &#x27;Condition1&#x27;, &#x27;Condition2&#x27;, &#x27;BldgType&#x27;, &#x27;HouseStyle&#x27;, &#x27;RoofStyle&#x27;,\n",
                     "       &#x27;RoofMatl&#x27;, &#x27;Exterior1st&#x27;, &#x27;Exterior2nd&#x27;, &#x27;MasVnrType&#x27;, &#x27;Foundation&#x27;,\n",
                     "       &#x27;H...\n",
                     "       &#x27;BsmtHalfBath&#x27;, &#x27;FullBath&#x27;, &#x27;HalfBath&#x27;, &#x27;BedroomAbvGr&#x27;, &#x27;KitchenAbvGr&#x27;,\n",
                     "       &#x27;KitchenQual&#x27;, &#x27;TotRmsAbvGrd&#x27;, &#x27;Functional&#x27;, &#x27;Fireplaces&#x27;,\n",
                     "       &#x27;FireplaceQu&#x27;, &#x27;GarageYrBlt&#x27;, &#x27;GarageCars&#x27;, &#x27;GarageArea&#x27;, &#x27;GarageQual&#x27;,\n",
                     "       &#x27;GarageCond&#x27;, &#x27;PavedDrive&#x27;, &#x27;WoodDeckSF&#x27;, &#x27;OpenPorchSF&#x27;,\n",
                     "       &#x27;EnclosedPorch&#x27;, &#x27;X3SsnPorch&#x27;, &#x27;ScreenPorch&#x27;, &#x27;PoolArea&#x27;, &#x27;PoolQC&#x27;,\n",
                     "       &#x27;MiscVal&#x27;, &#x27;YrSold&#x27;],\n",
                     "      dtype=&#x27;object&#x27;))],\n",
                     "                  verbose_feature_names_out=False)</pre></div></div></div><div class=\"sk-parallel\"><div class=\"sk-parallel-item\"><div class=\"sk-item\"><div class=\"sk-label-container\"><div class=\"sk-label sk-toggleable\"><input class=\"sk-toggleable__control sk-hidden--visually\" id=\"sk-estimator-id-31\" type=\"checkbox\" ><label for=\"sk-estimator-id-31\" class=\"sk-toggleable__label sk-toggleable__label-arrow\">categorical</label><div class=\"sk-toggleable__content\"><pre>Index([&#x27;MSSubClass&#x27;, &#x27;MSZoning&#x27;, &#x27;LandContour&#x27;, &#x27;LotConfig&#x27;, &#x27;Neighborhood&#x27;,\n",
                     "       &#x27;Condition1&#x27;, &#x27;Condition2&#x27;, &#x27;BldgType&#x27;, &#x27;HouseStyle&#x27;, &#x27;RoofStyle&#x27;,\n",
                     "       &#x27;RoofMatl&#x27;, &#x27;Exterior1st&#x27;, &#x27;Exterior2nd&#x27;, &#x27;MasVnrType&#x27;, &#x27;Foundation&#x27;,\n",
                     "       &#x27;Heating&#x27;, &#x27;CentralAir&#x27;, &#x27;Electrical&#x27;, &#x27;GarageType&#x27;, &#x27;GarageFinish&#x27;,\n",
                     "       &#x27;Fence&#x27;, &#x27;MiscFeature&#x27;, &#x27;MoSold&#x27;, &#x27;SaleType&#x27;, &#x27;SaleCondition&#x27;],\n",
                     "      dtype=&#x27;object&#x27;)</pre></div></div></div><div class=\"sk-serial\"><div class=\"sk-item\"><div class=\"sk-serial\"><div class=\"sk-item\"><div class=\"sk-estimator sk-toggleable\"><input class=\"sk-toggleable__control sk-hidden--visually\" id=\"sk-estimator-id-32\" type=\"checkbox\" ><label for=\"sk-estimator-id-32\" class=\"sk-toggleable__label sk-toggleable__label-arrow\">OneHotEncoder</label><div class=\"sk-toggleable__content\"><pre>OneHotEncoder(drop=&#x27;first&#x27;, handle_unknown=&#x27;ignore&#x27;, sparse_output=False)</pre></div></div></div></div></div></div></div></div><div class=\"sk-parallel-item\"><div class=\"sk-item\"><div class=\"sk-label-container\"><div class=\"sk-label sk-toggleable\"><input class=\"sk-toggleable__control sk-hidden--visually\" id=\"sk-estimator-id-33\" type=\"checkbox\" ><label for=\"sk-estimator-id-33\" class=\"sk-toggleable__label sk-toggleable__label-arrow\">numerical</label><div class=\"sk-toggleable__content\"><pre>Index([&#x27;LotFrontage&#x27;, &#x27;LotArea&#x27;, &#x27;Street&#x27;, &#x27;Alley&#x27;, &#x27;LotShape&#x27;, &#x27;Utilities&#x27;,\n",
                     "       &#x27;LandSlope&#x27;, &#x27;OverallQual&#x27;, &#x27;OverallCond&#x27;, &#x27;YearBuilt&#x27;, &#x27;YearRemodAdd&#x27;,\n",
                     "       &#x27;MasVnrArea&#x27;, &#x27;ExterQual&#x27;, &#x27;ExterCond&#x27;, &#x27;BsmtQual&#x27;, &#x27;BsmtCond&#x27;,\n",
                     "       &#x27;BsmtExposure&#x27;, &#x27;BsmtFinType1&#x27;, &#x27;BsmtFinSF1&#x27;, &#x27;BsmtFinType2&#x27;,\n",
                     "       &#x27;BsmtFinSF2&#x27;, &#x27;BsmtUnfSF&#x27;, &#x27;TotalBsmtSF&#x27;, &#x27;HeatingQC&#x27;, &#x27;X1stFlrSF&#x27;,\n",
                     "       &#x27;X2ndFlrSF&#x27;, &#x27;LowQualFinSF&#x27;, &#x27;GrLivArea&#x27;, &#x27;BsmtFullBath&#x27;,\n",
                     "       &#x27;BsmtHalfBath&#x27;, &#x27;FullBath&#x27;, &#x27;HalfBath&#x27;, &#x27;BedroomAbvGr&#x27;, &#x27;KitchenAbvGr&#x27;,\n",
                     "       &#x27;KitchenQual&#x27;, &#x27;TotRmsAbvGrd&#x27;, &#x27;Functional&#x27;, &#x27;Fireplaces&#x27;,\n",
                     "       &#x27;FireplaceQu&#x27;, &#x27;GarageYrBlt&#x27;, &#x27;GarageCars&#x27;, &#x27;GarageArea&#x27;, &#x27;GarageQual&#x27;,\n",
                     "       &#x27;GarageCond&#x27;, &#x27;PavedDrive&#x27;, &#x27;WoodDeckSF&#x27;, &#x27;OpenPorchSF&#x27;,\n",
                     "       &#x27;EnclosedPorch&#x27;, &#x27;X3SsnPorch&#x27;, &#x27;ScreenPorch&#x27;, &#x27;PoolArea&#x27;, &#x27;PoolQC&#x27;,\n",
                     "       &#x27;MiscVal&#x27;, &#x27;YrSold&#x27;],\n",
                     "      dtype=&#x27;object&#x27;)</pre></div></div></div><div class=\"sk-serial\"><div class=\"sk-item\"><div class=\"sk-serial\"><div class=\"sk-item\"><div class=\"sk-estimator sk-toggleable\"><input class=\"sk-toggleable__control sk-hidden--visually\" id=\"sk-estimator-id-34\" type=\"checkbox\" ><label for=\"sk-estimator-id-34\" class=\"sk-toggleable__label sk-toggleable__label-arrow\">SimpleImputer</label><div class=\"sk-toggleable__content\"><pre>SimpleImputer(strategy=&#x27;median&#x27;)</pre></div></div></div><div class=\"sk-item\"><div class=\"sk-estimator sk-toggleable\"><input class=\"sk-toggleable__control sk-hidden--visually\" id=\"sk-estimator-id-35\" type=\"checkbox\" ><label for=\"sk-estimator-id-35\" class=\"sk-toggleable__label sk-toggleable__label-arrow\">MinMaxScaler</label><div class=\"sk-toggleable__content\"><pre>MinMaxScaler()</pre></div></div></div></div></div></div></div></div></div></div></div></div>"
                  ],
                  "text/plain": [
                     "ColumnTransformer(transformers=[('categorical',\n",
                     "                                 Pipeline(steps=[('encoder',\n",
                     "                                                  OneHotEncoder(drop='first',\n",
                     "                                                                handle_unknown='ignore',\n",
                     "                                                                sparse_output=False))]),\n",
                     "                                 Index(['MSSubClass', 'MSZoning', 'LandContour', 'LotConfig', 'Neighborhood',\n",
                     "       'Condition1', 'Condition2', 'BldgType', 'HouseStyle', 'RoofStyle',\n",
                     "       'RoofMatl', 'Exterior1st', 'Exterior2nd', 'MasVnrType', 'Foundation',\n",
                     "       'H...\n",
                     "       'BsmtHalfBath', 'FullBath', 'HalfBath', 'BedroomAbvGr', 'KitchenAbvGr',\n",
                     "       'KitchenQual', 'TotRmsAbvGrd', 'Functional', 'Fireplaces',\n",
                     "       'FireplaceQu', 'GarageYrBlt', 'GarageCars', 'GarageArea', 'GarageQual',\n",
                     "       'GarageCond', 'PavedDrive', 'WoodDeckSF', 'OpenPorchSF',\n",
                     "       'EnclosedPorch', 'X3SsnPorch', 'ScreenPorch', 'PoolArea', 'PoolQC',\n",
                     "       'MiscVal', 'YrSold'],\n",
                     "      dtype='object'))],\n",
                     "                  verbose_feature_names_out=False)"
                  ]
               },
               "execution_count": 164,
               "metadata": {},
               "output_type": "execute_result"
            }
         ],
         "source": [
            "column_transformer"
         ]
      },
      {
         "cell_type": "markdown",
         "metadata": {},
         "source": [
            "## Regresja liniowa"
         ]
      },
      {
         "cell_type": "markdown",
         "metadata": {},
         "source": [
            "Możemy teraz przejść do przewidywania wartości domów. Naszym narzędziem będzie tutaj **regresja liniowa (linear regression)**, czyli model postaci:\n",
            "$$\n",
            "\\hat{y} = ax + b\n",
            "$$\n",
            "gdzie $\\hat{y}$ to zmienna zależna, $x$ to zmienna niezależna (wartość cechy), a współczynniki obliczane są według wzorów opisanych [tutaj](https://www.vedantu.com/formula/linear-regression-formula), bez wątpienia znanych Ci z algebry liniowej i statystyki.\n",
            "\n",
            "Rozwinięciem regresji liniowej jest wielokrotna regresja liniowa (*multiple linear regression*), która pozwala na wykorzystanie więcej niż jednej cechy do predykcji wartości. W takim modelu predykcja to kombinacja liniowa cech i wag, gdzie każda cecha posiada własną wagę. Więcej o tym mechanizmie możesz przeczytać [tutaj](https://rankia.pl/analizy-gieldowe/co-to-jest-wielokrotna-regresja-liniowa-mlr/). Formalnie jest to model postaci:\n",
            "$$\n",
            "\\hat{y} = \\boldsymbol{w} \\cdot \\boldsymbol{x} + b = \\sum_{i=1}^{d} w_i x_i + b\n",
            "$$\n",
            "gdzie:\n",
            "- $d$ to **wymiarowość (dimensionality)**, czyli liczba cech\n",
            "- $\\boldsymbol{w}$ to wektor wag o długości $d$\n",
            "- $w_i$ to wagi poszczególnych cech\n",
            "- $b$ to **wyraz wolny (bias / intercept)**, punkt przecięcia ze środkiem układu współrzędnych\n",
            "\n",
            "Pozostaje pytanie, jak wyznaczyć wagi $\\boldsymbol{w}$ i wyraz wolny $b$. Można to robić na różne sposoby, przy czym klasyczna regresja liniowa minimalizuje **błąd średniokwadratowy (mean squared error, MSE)**. Jest to przykład **funkcji kosztu (loss function / cost function)**, a konkretnie *squared loss / L2 loss**. Ma on postać:\n",
            "$$\n",
            "L(y, \\hat{y}) = \\frac{1}{n} \\sum_{i=1}^n \\left( y - \\hat{y} \\right)^2\n",
            "$$\n",
            "gdzie $\\hat{y}$ to wartość przewidywana przez model, $y$ - prawdziwa, a $n$ to liczba punktów w zbiorze.\n"
         ]
      },
      {
         "cell_type": "markdown",
         "metadata": {},
         "source": [
            "W Scikit-learn ten model implementuje klasa `LinearRegression`. Jej ważne cechy:\n",
            "- domyślnie uwzględnia intercept (bias) przez `fit_intercept=True`; jeżeli nasze dane są już wycentrowane, to jest to niepotrzebne i może powodować problemy numeryczne,\n",
            "- używa implementacji z pseudoodwrotnością Moore'a-Penrose'a (SVD),\n",
            "- nie pozwala na regularyzację, do tego trzeba użyć innych klas.\n",
            "\n",
            "Jak ocenić, jak taki model sobie radzi? Trzeba tutaj użyć pewnej **metryki (metric)**, czyli wyznacznika jakości modelu. Można na to patrzeć z wielu różnych perspektyw, w zależności od charakterystyki problemu. Tradycyjnie używa się **Root MSE (RMSE)**, czyli pierwiastka kwadratowego z MSE. Ma ważne zalety:\n",
            "- regresja liniowa z definicji modelu optymalizuje miarę MSE, więc używamy metryki dobrze związanej z modelem,\n",
            "- dzięki pierwiastkowaniu ma tę samą jednostkę, co przewidywane wartości. .\n",
            "\n",
            "Jest też dość czuła na wartości odstające, ale może to być korzystne, w zależności od zastosowania.\n",
            "\n",
            "$$\n",
            "RMSE(y, \\hat{y}) = \\sqrt{\\sum_{i=1}^n (y_i - \\hat{y}_i)^2}\n",
            "$$\n",
            "\n",
            "W Scikit-learn RMSE liczy się dość specyficznie, bo używa się funkcji do MSE z argumentem `squared=False`.\n",
            "\n",
            "#### Dla zainteresowanych\n",
            "\n",
            "Minimalizując inne rodzaje błędu, otrzymujemy modele liniowe o innych parametrach, ale tej samej postaci funkcji. Typowo modele te są bardziej odporne na wartości odstające, ale bardziej kosztowne w treningu. Są to np. [quantile regression](https://scikit-learn.org/stable/modules/generated/sklearn.linear_model.QuantileRegressor.html) optymalizująca koszt L1 (*mean absolute error*) czy [Huber regression](https://scikit-learn.org/stable/modules/generated/sklearn.linear_model.HuberRegressor.html), optymalizująca tzw. Huber loss (połączenie L1 i L2).\n",
            "\n",
            "Obliczanie regresji liniowej używa pseudoodwrotności Moore'a-Penrose'a i SVD. Objaśnia to dobrze [ten tutorial](https://sthalles.github.io/svd-for-regression/)."
         ]
      },
      {
         "cell_type": "code",
         "execution_count": 171,
         "metadata": {},
         "outputs": [
            {
               "name": "stdout",
               "output_type": "stream",
               "text": [
                  "RMSE: 0.1159\n",
                  "real RSME: 21318.61$\n"
               ]
            }
         ],
         "source": [
            "from sklearn.metrics import mean_squared_error, mean_absolute_error\n",
            "from sklearn.linear_model import LinearRegression\n",
            "\n",
            "# all variables are in range [0, 1], so we don't need an intercept\n",
            "reg_linear = LinearRegression(fit_intercept=False)\n",
            "reg_linear.fit(X_train, y_train)\n",
            "\n",
            "y_pred = reg_linear.predict(X_test)\n",
            "rmse = mean_squared_error(y_test, y_pred, squared=False)\n",
            "\n",
            "print(f\"RMSE: {rmse:.4f}\")\n",
            "print(f\"real RSME: {mean_squared_error(np.expm1(y_test), np.expm1(y_pred), squared=False):.2f}$\")\n",
            "\n",
            "#  log(a) - log(b) == log (a/b)"
         ]
      },
      {
         "cell_type": "markdown",
         "metadata": {},
         "source": [
            "Czy taki błąd to duży, czy mały? Wszystko zależy od skali wartości przewidywanych. Trzeba pamiętać, że dokonaliśmy logarytmowania zmiennej docelowej, więc trzeba to sprawdzić po transformacji odwrotnej `np.expm1`. Po tej operacji wartość błędu będzie wyrażona w dolarach."
         ]
      },
      {
         "cell_type": "markdown",
         "metadata": {},
         "source": [
            "## Zbyt małe i nadmierne dopasowanie"
         ]
      },
      {
         "cell_type": "markdown",
         "metadata": {},
         "source": [
            "W trakcie trenowania modelu może dojść do sytuacji, w której zostanie on **przeuczony (overfitting)**. W takim wypadku model nadmiernie dostosowuje się do danych treningowych, \"zakuwając\" je. Daje wtedy bardzo dokładne wyniki na zbiorze treningowym, ale kiepskie na zbiorze testowym. Modele przeuczone słabo zatem się **generalizują (generalization)**.\n",
            "\n",
            "Dlatego wcześniej wydzieliliśmy zbiór testowy, za pomocą którego oceniamy skuteczność naszego modelu. Pozwala to uniknąć powyższego błędu. Przeuczenie bardzo często można rozpoznać właśnie po różnym zachowaniu modelu na danych treningowych i testowych. Jeśli z danymi treningowymi model radzi sobie dużo lepiej, niż z testowymi, to istnieje dużo ryzyko, że model został przeuczony i skupił się na zapamiętywaniu konkretnych przykładów, na których się uczył, niż na wyciąganiu z nich uniwersalnych wzorców. Taki model słabo się generalizuje i nie poradzi sobie z nowymi danymi.\n",
            "\n",
            "Sprawdza się to następująco:\n",
            "- obliczamy błąd treningowy oraz testowy,\n",
            "- jeżeli oba błędy są wysokie, to mamy zbyt małe dopasowanie (*underfitting*) i trzeba użyć pojemniejszego modelu,\n",
            "- jeżeli błąd treningowy jest dużo niższy od treningowego, to mamy nadmierne dopasowanie (*overfitting*) i model trzeba regularyzować.\n"
         ]
      },
      {
         "cell_type": "markdown",
         "metadata": {},
         "source": [
            "W praktyce paradoksalnie często model o większej pojemności z mocną regularyzacją działa lepiej od prostszego modelu ze słabą regularyzacją. Wyjaśnianie, czemu tak jest, to otwarty problem naukowy, szczególnie w kontekście sieci neuronowych.\n",
            "\n",
            "Przeuczenie modelu jest bardzo istotnym problemem w sztucznej inteligencji i istnieje szereg metod, służących zapobieganiu tego zjawiska. Jedną z nich jest regularyzacja - do globalnej funkcji błędu dodawane są \"kary\" za tworzenie zbyt złożonych modeli. Typowe metody regularyzacji to L1 oraz L2, które penalizują wielkość parametrów obliczonych w trakcie treningu. Obie te wartości są tak naprawdę normami (odpowiednio `l1` i `l2`) wektorów wag modelu, przeskalowanymi przez określoną wartość. Dodawanie tych kar ma zapobiec przeuczeniu, bo typowo duże wagi w regresji liniowej i podobnych modelach oznaczają przeuczenie.\n",
            "\n",
            "Czemu tak jest? Przeuczenie bierze się z tego, że nasz model \"zakuwa\" zbiór treningowy, ucząc się **szumu (noise)** w danych, przypisując nadmierne znaczenie niewielkim różnicom w wartościach cech. Jeżeli cecha ma dużą wagę, to nawet niewielka zmiana jej wartości bardzo zmienia finalną predykcję (która jest kombinacją liniową). Dzięki regularyzacji, jeżeli model podczas treningu będzie chciał zwiększyć wagę dla cechy, to musi mu się to opłacać. Innymi słowy, zwiększenie wagi cechy musi zmniejszyć koszt (np. MSE) bardziej, niż wzrośnie kara z regularyzacji.\n",
            "\n",
            "Jak słusznie się domyślić, zbyt duże kary spowoduję z kolei niedouczenie (ang. *underfitting*). Więcej o konstrukcji i zastosowaniach regularyzacji L1 i L2 możesz przeczytać [tutaj](https://towardsdatascience.com/intuitions-on-l1-and-l2-regularisation-235f2db4c261).\n",
            "\n",
            "#### Dla zainteresowanych\n",
            "\n",
            "W praktyce detekcja nadmiernego dopasowania nie musi być wcale taka oczywista. Nasz model może przeuczać się tylko na niektórych segmentach danych, dla nietrywialnych kombinacji cech etc. Testowanie modeli ML i detekcja overfittingu jest otwartym problemem badawczym, ale powstają już pierwsze narzędzia do tego, np. [Giskard](https://github.com/Giskard-AI/giskard)."
         ]
      },
      {
         "cell_type": "markdown",
         "metadata": {},
         "source": [
            "**Zadanie 5 (1.0 punkt)**\n",
            "\n",
            "Uzupełnij kod funkcji `assess_regression_model` o:\n",
            "- obliczenie predykcji na zbiorze treningowym oraz testowym,\n",
            "- transformacje eksponencjalne, żeby wrócić do oryginalnej jednostki (dolara),\n",
            "- obliczenie RMSE dla zbioru treningowego i testowego,\n",
            "- wypisywanie RMSE, zaokrąglonego do 2 miejsc po przecinku.\n",
            "\n",
            "Skomentuj wyniki. Czy następuje przeuczenie modelu? Oceń także sam błąd, czy subiektywnie to duża wartość, biorąc pod uwagę rozkład zmiennej docelowej (wartości i wykresy w sekcji EDA)?"
         ]
      },
      {
         "cell_type": "code",
         "execution_count": 172,
         "metadata": {},
         "outputs": [],
         "source": [
            "def assess_regression_model(model, X_train, X_test, y_train, y_test) -> None:\n",
            "    # predict for train and test\n",
            "    # your_code_here\n",
            "    y_predict_train = model.predict(X_train)\n",
            "    y_predict_test = model.predict(X_test)\n",
            "\n",
            "    # exponential transform for y_train, y_test and predictions\n",
            "    y_predict_train = np.expm1(y_predict_train)\n",
            "    y_predict_test = np.expm1(y_predict_test)\n",
            "    y_train = np.expm1(y_train)\n",
            "    y_test = np.expm1(y_test)\n",
            "    \n",
            "    # calculate train and test RMSE\n",
            "    rmse_train = mean_squared_error(y_train, y_predict_train, squared=False)\n",
            "    rmse_test = mean_squared_error(y_test, y_predict_test, squared=False)\n",
            "    \n",
            "    # print train and test RMSE\n",
            "    print(f\"Train RMSE: {rmse_train:.2f}\")\n",
            "    print(f\"Test RMSE: {rmse_test:.2f}\")\n",
            "    print(F\"Ratio: {rmse_test/rmse_train:.2f}\")\n"
         ]
      },
      {
         "cell_type": "code",
         "execution_count": 173,
         "metadata": {},
         "outputs": [
            {
               "name": "stdout",
               "output_type": "stream",
               "text": [
                  "Train RMSE: 16751.11\n",
                  "Test RMSE: 21318.61\n",
                  "Ratio: 1.27\n"
               ]
            }
         ],
         "source": [
            "assess_regression_model(reg_linear, X_train, X_test, y_train, y_test)"
         ]
      },
      {
         "cell_type": "markdown",
         "metadata": {},
         "source": [
            "Błąd dla danych testowych jest o 40% większy niż dla danych testowych. Nie jest to duża różnica więc możemy przypuszczać że model jest poprawnie nauczony."
         ]
      },
      {
         "cell_type": "markdown",
         "metadata": {},
         "source": [
            "## Regresja regularyzowana (ridge, LASSO)"
         ]
      },
      {
         "cell_type": "markdown",
         "metadata": {},
         "source": [
            "Regularyzacja zmniejsza pojemność modelu regresji liniowej, narzucając mniejsze wagi poprzez penalizację dużych wag w funkcji kosztu. Regresja liniowa z regularyzacją L2 nazywa się *ridge regression*, z regularyzacją L1 - *LASSO regression*, a z oboma naraz - *ElasticNet regression*. Formalnie mamy:\n",
            "$$\n",
            "L_{ridge}(y, \\hat{y}) = \\frac{1}{n} (y - \\hat{y})^2 + \\lambda ||\\boldsymbol{w}||_2^2\n",
            "$$\n",
            "$$\n",
            "L_{LASSO}(y, \\hat{y}) = \\frac{1}{n} (y - \\hat{y})^2 + \\alpha ||\\boldsymbol{w}||_1\n",
            "$$\n",
            "$$\n",
            "L_{ElasticNet}(y, \\hat{y}) = \\frac{1}{n} (y - \\hat{y})^2 + \\lambda ||\\boldsymbol{w}||_2^2 + \\alpha ||\\boldsymbol{w}||_1\n",
            "$$\n",
            "\n",
            "Jak widać, regularyzacja dodaje do zwykłego kosztu MSE dodatkowe wyrazy, penalizujące wielkość wag $\\boldsymbol{w}$. **Siłę regularyzacji (regularization strength)**, czyli jak mocna jest taka kara, wyznacza współczynnik, oznaczany typowo $\\lambda$ albo $\\alpha$. Jest to **hiperparametr (hyperparameter)**, czyli stała modelu, którą narzucamy z góry, przed treningiem. Nie jest on uczony z danych. Jak go dobrać, omówimy poniżej.\n",
            "\n",
            "Regresja ridge (L2) zmniejsza wagi i jest różniczkowalna (szybsza i łatwiejsza w treningu). Regresja LASSO (L1) dokonuje **selekcji cech (feature selection)**, zmniejszając często wagi cech dokładnie do zera, eliminując tym samym słabe cechy. Oba naraz realizuje model ElasticNet.\n"
         ]
      },
      {
         "cell_type": "markdown",
         "metadata": {},
         "source": [
            "W Scikit-learn implementują je klasy `Ridge`, `Lasso` oraz `ElasticNet`. Najważniejszy hiperparametr każdego z tych modeli to siła regularyzacji, która we wszystkich klasach to `alpha`. Scikit-learn definiuje regularyzację ElasticNet dość specyficznie, za pomocą parametru `l1_ratio`, który wyznacza, jaki ułamek siły regularyzacji przypada dla L1, a jaki dla L2:\n",
            "$$\n",
            "L_{ElasticNet}(y, \\hat{y}) = \\frac{1}{n} \\sum_{i=1}^n \\left( y - \\hat{y} \\right)^2 + \\alpha \\cdot (1 - L1\\_ratio) \\cdot ||\\boldsymbol{w}||_2^2 + \\alpha \\cdot L1\\_ratio \\cdot ||\\boldsymbol{w}||_1 \\\\\n",
            "$$\n",
            "\n",
            "Inne ważne uwagi:\n",
            "- liczba iteracji `max_iter` wyznacza liczbę iteracji solwera; im więcej, tym dokładniejsze rozwiązanie, ale tym dłuższy czas obliczeń,\n",
            "- jeżeli `max_iter` będzie zbyt mała i algorytm nie osiągnie zbieżności, to dostaniemy ostrzeżenie, wtedy zwykle trzeba po prostu ją zwiększyć, np. 10-krotnie,\n",
            "- jeżeli nie potrzebujemy bardzo precyzyjnego rozwiązania, można ustawić większe `tol` dla przyspieszenia obliczeń.\n",
            "\n",
            "Jako że nasz model jest regularyzowany i nie ma ryzyka problemów numerycznych, to teraz już obliczamy intercept."
         ]
      },
      {
         "cell_type": "code",
         "execution_count": 174,
         "metadata": {},
         "outputs": [
            {
               "name": "stdout",
               "output_type": "stream",
               "text": [
                  "Train RMSE: 16870.91\n",
                  "Test RMSE: 18879.11\n",
                  "Ratio: 1.12\n",
                  "\n",
                  "Train RMSE: 79579.79\n",
                  "Test RMSE: 80091.99\n",
                  "Ratio: 1.01\n"
               ]
            }
         ],
         "source": [
            "from sklearn.linear_model import Ridge, Lasso\n",
            "\n",
            "reg_ridge = Ridge(random_state=0)\n",
            "reg_lasso = Lasso(random_state=0)\n",
            "\n",
            "reg_ridge.fit(X_train, y_train)\n",
            "reg_lasso.fit(X_train, y_train)\n",
            "\n",
            "assess_regression_model(reg_ridge, X_train, X_test, y_train, y_test)\n",
            "print()\n",
            "assess_regression_model(reg_lasso, X_train, X_test, y_train, y_test)"
         ]
      },
      {
         "cell_type": "markdown",
         "metadata": {},
         "source": [
            "W przypadku regularyzacji L2 domyślna siła regularyzacji (`alpha=1.0`) znacząco poprawiła wynik, natomiast w przypadku L1 mamy bardzo silny underfitting."
         ]
      },
      {
         "cell_type": "markdown",
         "metadata": {},
         "source": [
            "### Tuning hiperparametrów, zbiór walidacyjny\n",
            "\n",
            "Praktycznie wszystkie modele ML mają hiperparametry, często liczne, które w zauważalny sposób wpływają na wyniki, a szczególnie na underfitting i overfitting. Ich wartości trzeba dobrać zatem dość dokładnie. Jak to zrobić? Proces doboru hiperparametrów nazywa się **tuningiem hiperparametrów** (*hyperparameter tuning*).\n",
            "\n",
            "Istnieje na to wiele sposobów. Większość z nich polega na tym, że trenuje się za każdym razem model z nowym zestawem hiperparametrów i wybiera się ten zestaw, który pozwala uzyskać najlepsze wyniki. Metody głównie różnią się między sobą sposobem doboru kandydujących zestawów hiperparametrów.\n",
            "\n",
            "Najprostsze i najpopularniejsze to:\n",
            "\n",
            "* **pełne przeszukiwanie** (*grid search*) - definiujemy możliwe wartości dla różnych hiperparametrów, a metoda sprawdza ich wszystkie możliwe kombinacje (czyli siatkę),\n",
            "* **losowe przeszukiwanie** (*randomized search*) - definiujemy możliwe wartości jak w pełnym przeszukiwaniu, ale sprawdzamy tylko ograniczoną liczbę losowo wybranych kombinacji."
         ]
      },
      {
         "cell_type": "markdown",
         "metadata": {},
         "source": [
            "Jak ocenić, jak dobry jest jakiś zestaw hiperparametrów? Nie możemy sprawdzić tego na zbiorze treningowym - wyniki byłyby zbyt optymistyczne. Nie możemy wykorzystać zbioru testowego - mielibyśmy data leakage, bo wybieralibyśmy model explicite pod nasz zbiór testowy. Trzeba zatem osobnego zbioru, na którym będziemy na bieżąco sprawdzać jakość modeli dla różnych hiperparametrów. Jest to **zbiór walidacyjny** (*validation set*).\n",
            "\n",
            "Zbiór taki wycina się ze zbioru treningowego. Dzielimy zatem nasze dane nie na dwie, ale trzy części: treningową, walidacyjną i testową. Typowe proporcje to 60-20-20% lub 80-10-10%.\n",
            "\n",
            "Metody tuningu hiperparametrów są zaimplementowane w Scikit-Learn jako `GridSearchCV` oraz `RandomizedSearchCV`. Są też bardziej wyspecjalizowane metody dla konkretnych modeli, które są dla nich typowo o wiele szybsze.\n",
            "\n",
            "**Uwaga:** warto zauważyć, że liczba możliwych kombinacji rośnie gwałtownie wraz z liczbą hiperparametrów i ich możliwych wartości. Mając siatkę na 3 hiperparametry po 10 możliwych wartości dla każdego, otrzymujemy 1000 możliwych kombinacji. W pracy w ML płacą nam też za to, że wiemy, jakie siatki dobrać :)\n",
            "\n",
            "#### Dla zainteresowanych\n",
            "\n",
            "Szczególnie inteligentne są metody tuningu z grupy metod optymalizacji bayesowskiej (Bayesian hyperparameter optimization / Bayesian HPO). Są to np. procesy Gaussowskie oraz Tree Parzen Estimator (TPE). Wykorzystują one dość zaawansowaną statystykę, aby zamodelować, jak poszczególne hiperparametry wpływają na wynik i dobierają takie kolejne kombinacje hiperparametrów, które są ich zdaniem najbardziej obiecujące. W szczególności wiele z tych metod traktuje dobór hiperparametrów jak problem regresji, gdzie parametrami są hiperparametry modelu, które dobieramy.\n",
            "\n",
            "Takich metod szczególnie często używa się przy tuningu hiperparametrów dla sieci neuronowej, gdyż jej wytrenowanie jest czasochłonne, a więc nie możemy pozwolić sobie na sprawdzenie licznych kombinacji, bo zbyt dużo by nas to kosztowało.\n",
            "\n",
            "Ta metoda została zaimplementowana w wielu frameworkach, jak np. Optuna czy Hyperopt. Więcej można o nich przeczytać [tutaj](https://towardsdatascience.com/a-conceptual-explanation-of-bayesian-model-based-hyperparameter-optimization-for-machine-learning-b8172278050f)."
         ]
      },
      {
         "cell_type": "markdown",
         "metadata": {},
         "source": [
            "## Walidacja skrośna\n",
            "\n",
            "Jednorazowy podział zbioru na części nazywa się *split validation* lub *holdout*. Używamy go, gdy mamy sporo danych, i 10-20% zbioru jako dane walidacyjne czy testowe to dość dużo, żeby mieć przyzwoite oszacowanie. Zbyt mały zbiór walidacyjny czy testowy da nam mało wiarygodne wyniki - nie da się nawet powiedzieć, czy zbyt pesymityczne, czy optymistyczne! W praktyce niestety często mamy mało danych. Trzeba zatem jakiejś magicznej metody, która stworzy nam więcej zbiorów walidacyjnych z tej samej ilości danych.\n",
            "\n",
            "Taką metodą jest **walidacja skrośna** (*cross-validation, CV*). Polega na tym, że dzielimy zbiór na K równych podzbiorów, tzw. *foldów*. Każdy podzbiór po kolei staje się zbiorem walidacyjnym, a pozostałe łączymy w zbiór treningowy. Przykładowo, jeżeli mamy 5 foldów (1, 2, 3, 4, 5), to będziemy mieli po kolei:\n",
            "- zbiór treningowy: (2, 3, 4, 5), walidacyjny: (1)\n",
            "- zbiór treningowy: (1, 3, 4, 5), walidacyjny: (2)\n",
            "- zbiór treningowy: (1, 2, 4, 5), walidacyjny: (3)\n",
            "- zbiór treningowy: (1, 2, 3, 5), walidacyjny: (4)\n",
            "- zbiór treningowy: (1, 2, 3, 4), walidacyjny: (5)\n",
            "\n",
            "Trenujemy zatem K modeli dla tego samego zestawu hiperparametrów i każdy testujemy na zbiorze walidacyjnym. Mamy K wyników dla zbiorów walidacyjnych, które możemy uśrednić (i ew. obliczyć odchylenie standardowe). Takie wyniki są znacznie bardziej wiarygodne zgodnie ze statystyką (moc statystyczna itp.). Typowo używa się 5 lub 10 foldów, co jest dobrym balansem między liczbą modeli do wytrenowania i wielkością zbiorów walidacyjnych.\n",
            "\n",
            "Szczególnym przypadkiem jest Leave-One-Out Cross-Validation (LOOCV), w którym ilość podzbiorów (*foldów*) jest równa ilości rekordów. Czyli w danej chwili tylko 1 przykład jest zbiorem walidacyjnym. Daje to możliwość prawie całkowitego wykorzystania naszych danych (w każdej iteracji musimy wydzielić tylko 1 przykład na zbiór walidacyjny, cała reszta jest naszym zbiorem treningowym), ale wprowadza ogromny koszt obliczeniowy. Jest to opłacalne tylko w szczególnych przypadkach.\n",
            "\n",
            "Można zauważyć, że w nazwach klas do tuningu parametrów, wspomnianych wyżej, mamy sufiks `CV` - to jest właśnie *Cross Validation*.\n",
            "\n",
            "#### Dla zainteresowanych\n",
            "\n",
            "Walidacji skrośnej można użyć także do testowania, tworząc wiele zbiorów testowych. Można połączyć obie techniki, co daje tzw. [nested cross-validation](https://vitalflux.com/python-nested-cross-validation-algorithm-selection/). Jest to bardzo kosztowna, ale jednocześnie bardzo precyzyjna technika."
         ]
      },
      {
         "cell_type": "markdown",
         "metadata": {},
         "source": [
            "### RidgeCV, LassoCV, ElasticNetCV\n",
            "\n",
            "W przypadku regresji liniowej istnieją bardzo wydajne implementacje walidacji skrośnej, głównie dzięki prostocie tego modelu. W Scikit-learn są to odpowiednio `RidgeCV`, `LassoCV` oraz `ElasticNetCV`.\n",
            "\n",
            "`RidgeCV` domyślnie wykorzystuje efektywną implementację Leave-One-Out Cross-Validation (LOOCV). Jest to możliwe dzięki pewnym sztuczkom opartym na algebrze liniowej, wyjaśnionych [w dokumentacji w kodzie](https://github.com/scikit-learn/scikit-learn/blob/8c9c1f27b7e21201cfffb118934999025fd50cca/sklearn/linear_model/_ridge.py#L1547) (dla zainteresowanych). Co ważne, jest to operacja o wiele szybsza niż osobne grid search + ridge regression, a nawet od `RidgeCV` z mniejszą liczbą foldów.\n",
            "\n",
            "`LassoCV` oraz `ElasticNetCV` iterują od najmniejszych do największych wartości `alpha` (siły regularyzacji), używając rozwiązania dla mniejszej siły regularyzacji jako punktu początkowego dla kolejnej wartości. Odpowiada to po prostu dość inteligentnemu wyborowi punktu startowego w optymalizacji funkcji kosztu, a znacznie obniża koszt obliczeniowy."
         ]
      },
      {
         "cell_type": "markdown",
         "metadata": {},
         "source": [
            "**Zadanie 6 (1.0 punkt)**\n",
            "\n",
            "Użyj klas `RidgeCV` oraz `LassoCV` do tuningu hiperparametrów.\n",
            "\n",
            "Dla `RidgeCV` sprawdź 1000 wartości `[0.1, 100]` w skali liniowej - przyda się `np.linspace()`. Użyj LOOCV.\n",
            "\n",
            "Dla `LassoCV` Scikit-learn sam dobierze wartości, musisz podać tylko liczbę wartości alfa do sprawdzenia - użyj 1000. Użyj 5-fold CV. Pamiętaj o podaniu `random_state=0` - solver jest niedeterministyczny.\n",
            "\n",
            "Wypisz znalezione optymalne wartości siły regularyzacji `.alpha_` dla obu modeli, zaokrąglone do 4 miejsca po przecinku dla czytelności.\n",
            "\n",
            "---\n",
            "\n",
            "***Ciekawostka***\n",
            "\n",
            "Atrybuty z `_` (*underscore*) na końcu w Scikit-Learn oznaczają, że zostały one wyliczone podczas treningu (`.fit()`). W powyższym przypadku optymalny współczynnik regularyzacji `.alpha_` został wyznaczony dopiero po przeprowadzeniu tuningu hiperparametrów.\n",
            "\n",
            "Jeśli zajrzeć do [dokumentacji](https://scikit-learn.org/stable/modules/generated/sklearn.linear_model.LinearRegression.html) dla klasy `LinearRegression`, to można zauważyć takie atrybuty jak `.coef_` przechowujący wyznaczone współczynniki cech, czy `.intercept_` - wyraz wolny.\n",
            "\n",
            "Takie atrybuty pozwalają przeprowadzić dogłębniejszą analizę wytrenowanego modelu.\n",
            "\n",
            "---\n",
            "\n",
            "Przetestuj modele z użyciem `assess_regression_model()`. Skomentuj wyniki. Czy udało się wyeliminować overfitting?"
         ]
      },
      {
         "cell_type": "code",
         "execution_count": 175,
         "metadata": {},
         "outputs": [
            {
               "data": {
                  "text/html": [
                     "<style>#sk-container-id-9 {color: black;}#sk-container-id-9 pre{padding: 0;}#sk-container-id-9 div.sk-toggleable {background-color: white;}#sk-container-id-9 label.sk-toggleable__label {cursor: pointer;display: block;width: 100%;margin-bottom: 0;padding: 0.3em;box-sizing: border-box;text-align: center;}#sk-container-id-9 label.sk-toggleable__label-arrow:before {content: \"▸\";float: left;margin-right: 0.25em;color: #696969;}#sk-container-id-9 label.sk-toggleable__label-arrow:hover:before {color: black;}#sk-container-id-9 div.sk-estimator:hover label.sk-toggleable__label-arrow:before {color: black;}#sk-container-id-9 div.sk-toggleable__content {max-height: 0;max-width: 0;overflow: hidden;text-align: left;background-color: #f0f8ff;}#sk-container-id-9 div.sk-toggleable__content pre {margin: 0.2em;color: black;border-radius: 0.25em;background-color: #f0f8ff;}#sk-container-id-9 input.sk-toggleable__control:checked~div.sk-toggleable__content {max-height: 200px;max-width: 100%;overflow: auto;}#sk-container-id-9 input.sk-toggleable__control:checked~label.sk-toggleable__label-arrow:before {content: \"▾\";}#sk-container-id-9 div.sk-estimator input.sk-toggleable__control:checked~label.sk-toggleable__label {background-color: #d4ebff;}#sk-container-id-9 div.sk-label input.sk-toggleable__control:checked~label.sk-toggleable__label {background-color: #d4ebff;}#sk-container-id-9 input.sk-hidden--visually {border: 0;clip: rect(1px 1px 1px 1px);clip: rect(1px, 1px, 1px, 1px);height: 1px;margin: -1px;overflow: hidden;padding: 0;position: absolute;width: 1px;}#sk-container-id-9 div.sk-estimator {font-family: monospace;background-color: #f0f8ff;border: 1px dotted black;border-radius: 0.25em;box-sizing: border-box;margin-bottom: 0.5em;}#sk-container-id-9 div.sk-estimator:hover {background-color: #d4ebff;}#sk-container-id-9 div.sk-parallel-item::after {content: \"\";width: 100%;border-bottom: 1px solid gray;flex-grow: 1;}#sk-container-id-9 div.sk-label:hover label.sk-toggleable__label {background-color: #d4ebff;}#sk-container-id-9 div.sk-serial::before {content: \"\";position: absolute;border-left: 1px solid gray;box-sizing: border-box;top: 0;bottom: 0;left: 50%;z-index: 0;}#sk-container-id-9 div.sk-serial {display: flex;flex-direction: column;align-items: center;background-color: white;padding-right: 0.2em;padding-left: 0.2em;position: relative;}#sk-container-id-9 div.sk-item {position: relative;z-index: 1;}#sk-container-id-9 div.sk-parallel {display: flex;align-items: stretch;justify-content: center;background-color: white;position: relative;}#sk-container-id-9 div.sk-item::before, #sk-container-id-9 div.sk-parallel-item::before {content: \"\";position: absolute;border-left: 1px solid gray;box-sizing: border-box;top: 0;bottom: 0;left: 50%;z-index: -1;}#sk-container-id-9 div.sk-parallel-item {display: flex;flex-direction: column;z-index: 1;position: relative;background-color: white;}#sk-container-id-9 div.sk-parallel-item:first-child::after {align-self: flex-end;width: 50%;}#sk-container-id-9 div.sk-parallel-item:last-child::after {align-self: flex-start;width: 50%;}#sk-container-id-9 div.sk-parallel-item:only-child::after {width: 0;}#sk-container-id-9 div.sk-dashed-wrapped {border: 1px dashed gray;margin: 0 0.4em 0.5em 0.4em;box-sizing: border-box;padding-bottom: 0.4em;background-color: white;}#sk-container-id-9 div.sk-label label {font-family: monospace;font-weight: bold;display: inline-block;line-height: 1.2em;}#sk-container-id-9 div.sk-label-container {text-align: center;}#sk-container-id-9 div.sk-container {/* jupyter's `normalize.less` sets `[hidden] { display: none; }` but bootstrap.min.css set `[hidden] { display: none !important; }` so we also need the `!important` here to be able to override the default hidden behavior on the sphinx rendered scikit-learn.org. See: https://github.com/scikit-learn/scikit-learn/issues/21755 */display: inline-block !important;position: relative;}#sk-container-id-9 div.sk-text-repr-fallback {display: none;}</style><div id=\"sk-container-id-9\" class=\"sk-top-container\"><div class=\"sk-text-repr-fallback\"><pre>LassoCV(cv=5, n_alphas=1000, random_state=0)</pre><b>In a Jupyter environment, please rerun this cell to show the HTML representation or trust the notebook. <br />On GitHub, the HTML representation is unable to render, please try loading this page with nbviewer.org.</b></div><div class=\"sk-container\" hidden><div class=\"sk-item\"><div class=\"sk-estimator sk-toggleable\"><input class=\"sk-toggleable__control sk-hidden--visually\" id=\"sk-estimator-id-36\" type=\"checkbox\" checked><label for=\"sk-estimator-id-36\" class=\"sk-toggleable__label sk-toggleable__label-arrow\">LassoCV</label><div class=\"sk-toggleable__content\"><pre>LassoCV(cv=5, n_alphas=1000, random_state=0)</pre></div></div></div></div></div>"
                  ],
                  "text/plain": [
                     "LassoCV(cv=5, n_alphas=1000, random_state=0)"
                  ]
               },
               "execution_count": 175,
               "metadata": {},
               "output_type": "execute_result"
            }
         ],
         "source": [
            "from sklearn.linear_model import RidgeCV, LassoCV\n",
            "\n",
            "xs = np.linspace(0.1, 100, 1000)\n",
            "reg_ridge = RidgeCV(alphas=xs)\n",
            "reg_lasso = LassoCV(n_alphas=1000, cv=5, random_state=0)\n",
            "\n",
            "reg_ridge.fit(X_train, y_train)\n",
            "reg_lasso.fit(X_train, y_train)"
         ]
      },
      {
         "cell_type": "code",
         "execution_count": 176,
         "metadata": {},
         "outputs": [
            {
               "name": "stdout",
               "output_type": "stream",
               "text": [
                  "best ridge alpha: 2.9000000000000004\n",
                  "best lasso alpha: 0.00029464008656836677\n",
                  "\n",
                  "Pure linear regression:\n",
                  "Train RMSE: 16751.11\n",
                  "Test RMSE: 21318.61\n",
                  "Ratio: 1.27\n",
                  "\n",
                  "Ridge:\n",
                  "Train RMSE: 17212.41\n",
                  "Test RMSE: 18758.43\n",
                  "Ratio: 1.09\n",
                  "\n",
                  "Lasso:\n",
                  "Train RMSE: 18108.04\n",
                  "Test RMSE: 18664.62\n",
                  "Ratio: 1.03\n"
               ]
            }
         ],
         "source": [
            "print(f\"best ridge alpha: {reg_ridge.alpha_}\")\n",
            "print(f\"best lasso alpha: {reg_lasso.alpha_}\")\n",
            "\n",
            "\n",
            "print(\"\\nPure linear regression:\")\n",
            "assess_regression_model(reg_linear, X_train, X_test, y_train, y_test)\n",
            "\n",
            "print(\"\\nRidge:\")\n",
            "assess_regression_model(reg_ridge, X_train, X_test, y_train, y_test)\n",
            "print(\"\\nLasso:\")\n",
            "assess_regression_model(reg_lasso, X_train, X_test, y_train, y_test)"
         ]
      },
      {
         "cell_type": "markdown",
         "metadata": {},
         "source": [
            "Dzięki odpowiedniemu doborowi hiperparametrów nastąpiła znaczna poprawda błędu dla danych testych.\n",
            "Można zauważyć że RMSE zwiększyło się, jest prawdopodobnie spowodowane zmniejszeniem overfittingu danych treningowych "
         ]
      },
      {
         "cell_type": "markdown",
         "metadata": {},
         "source": [
            "## Regresja wielomianowa"
         ]
      },
      {
         "cell_type": "markdown",
         "metadata": {},
         "source": [
            "Regresja wielomianowa to po prostu dodanie wielomianów cech do naszych danych:\n",
            "$$\n",
            "[a, b, c, d] -> [a, b, c, d, a^2, b^2, c^2, d^2, ab, ac, ad, bc, bd, cd]\n",
            "$$\n",
            "\n",
            "Pozwala to na uwzględnienie bardziej złożonych kombinacji cech, których sama regresja liniowa, ze względu na swoją prostotę, nie jest w stanie uwzględnić.\n",
            "\n",
            "W Scikit-learn regresja wielomianowa składa się z 2 osobnych kroków: wygenerowania cech wielomianowych i użycia zwykłej regresji liniowej. Pozwala to na użycie tej transformacji dla dowolnych algorytmów, nie tylko regresji liniowej.\n",
            "\n",
            "Kwestią sporną jest, czy jest sens przeprowadzać taką transformację dla zmiennych po one-hot encodingu. Potęgi na pewno nie mają sensu, natomiast interakcje realizują po prostu operację koniunkcji (AND), ale łatwo prowadzi to do eksplozji wymiarowości. Dla uproszczenia poniżej zastosujemy transformację dla wszystkich cech.\n",
            "\n",
            "Warto pamiętać, że jeżeli używamy modelu, który sam dodaje intercept (jak regresja liniowa), to trzeba przekazać `include_bias=False`. Żeby wymiarowość zbytnio nam nie urosła, użyjemy `interaction_only=True`."
         ]
      },
      {
         "cell_type": "code",
         "execution_count": 177,
         "metadata": {},
         "outputs": [
            {
               "name": "stdout",
               "output_type": "stream",
               "text": [
                  "Train RMSE: 12856.88\n",
                  "Test RMSE: 18298.30\n",
                  "Ratio: 1.42\n",
                  "\n",
                  "Ridge + polynomial features alpha: 84.8000\n"
               ]
            }
         ],
         "source": [
            "from sklearn.preprocessing import PolynomialFeatures\n",
            "\n",
            "poly_features = PolynomialFeatures(degree=2, interaction_only=True, include_bias=False)\n",
            "poly_features.fit(X_train)\n",
            "\n",
            "X_train_poly = poly_features.transform(X_train)\n",
            "X_test_poly = poly_features.transform(X_test)\n",
            "\n",
            "reg_ridge_cv_poly = RidgeCV(alphas=np.linspace(0.1, 100, 1000))\n",
            "reg_ridge_cv_poly.fit(X_train_poly, y_train)\n",
            "\n",
            "assess_regression_model(reg_ridge_cv_poly, X_train_poly, X_test_poly, y_train, y_test)\n",
            "print()\n",
            "print(f\"Ridge + polynomial features alpha: {reg_ridge_cv_poly.alpha_:.4f}\")"
         ]
      },
      {
         "cell_type": "markdown",
         "metadata": {},
         "source": [
            "Co ciekawe, model bardziej zbliżył się do przeuczenia, ale błąd testowy zmalał. Jest to niezbyt częste, ale możliwe."
         ]
      },
      {
         "cell_type": "markdown",
         "metadata": {},
         "source": [
            "## Regresja logistyczna\n",
            "\n",
            "Regresja logistyczna jest modelem, który pozwala na przewidywanie wartości zmiennych dychotomicznych w oparciu o jedną lub większą ilość cech. Funkcją bazową regresji logistycznej jest funkcja logistyczna. Bardzo ciekawe podsumowanie dotyczące matematyki stojącej za regresją logistyczną znajdziesz [tu](https://philippmuens.com/logistic-regression-from-scratch)."
         ]
      },
      {
         "cell_type": "markdown",
         "metadata": {},
         "source": [
            "Do klasyfikacji wykorzystamy zbiór [Bank Marketing](https://archive.ics.uci.edu/ml/datasets/bank+marketing), w którym przewiduje się, czy dana osoba będzie zainteresowana lokatą terminową w banku. Precyzyjny targetowany marketing jest ważny z perspektywy biznesu, bo w praktyce chce się reklamować tak mało, jak to możliwe. Bank zarabia tylko na tych osobach, które są faktycznie zainteresowane reklamą, a pozostałych można łatwo zrazić zbyt dużą liczbą reklam, więc precyzyjna ocena przynosi tu realne zyski.\n",
            "\n",
            "Zbiór posiada dwie wersje, uproszczoną oraz rozszerzoną o dodatkowe atrybuty socjoekonomiczne (np. sytuację ekonomiczną w planowanym momencie reklamy). Wykorzystamy tę drugą, bo są to bardzo wartościowe cechy. Dodatkowo każda wersja posiada pełny zbiór (ok. 45 tysięcy przykładów) oraz pomniejszony (ok. 4 tysiąca przykładów). Dzięki skalowalności regresji logistycznej możemy bez problemu wykorzystać pełny zbiór z dodatkowymi cechami.\n",
            "\n",
            "Opisy zmiennych znajdują się w pliku [bank_marketing_description.txt](bank_marketing_description.txt)."
         ]
      },
      {
         "cell_type": "markdown",
         "metadata": {},
         "source": [
            "**Zadanie 7 (1.0 punkt)**\n",
            "\n",
            "*Wczytywanie i czyszczenie danych*\n",
            "\n",
            "1. Załaduj zbiór danych z pliku [bank_marketing_data.csv](bank_marketing_data.csv) do DataFrame'a. Zwróć uwagę, że separatorem jest średnik (argument `sep`).\n",
            "2. Usuń kolumny:\n",
            "    - `default`, czy klient ma zadłużenie na karcie kredytowej; ma tylko 3 wartości `yes`,\n",
            "    - `duration`, czas trwania ostatniego telefonu reklamowego; autorzy sugerują usunięcie w opisie zbioru, bo nie znamy tej wartości przed wykonaniem telefonu,\n",
            "    - `pdays`, liczba dni od ostatniego telefonu reklamowego w ramach danej kampanii marketingowej; jeżeli to pierwszy kontakt, to wartość to 999, i ciężko byłoby włączyć taką cechę do modelu, a mamy już i tak informację o tym, czy to pierwszy kontakt z klientem w zmiennej `previous`,\n",
            "    - `poutcome`, wynik poprzedniej kampanii; w zdecydowanej większości przypadków to `nonexistent`.\n",
            "3. Dokonaj filtrowania wierszy:\n",
            "    - usuń wiersze z `education` na poziomie `illiterate`, jest ich tylko kilkanaście.\n",
            "4. Zakoduj odpowiednio zmienne `education`, `contact`, `month`, `day_of_week` i `y`. Dla ułatwienia słowniki tych zmiennych są w zmiennych poniżej.\n",
            "5. Wyodrębnij kolumnę `y` do zmiennej `y` (pamiętaj o usunięciu jej z DataFrame'a)."
         ]
      },
      {
         "cell_type": "code",
         "execution_count": 178,
         "metadata": {},
         "outputs": [],
         "source": [
            "education_mapping = {\n",
            "    \"basic.4y\": \"primary\",\n",
            "    \"basic.6y\": \"primary\",\n",
            "    \"basic.9y\": \"primary\",\n",
            "    \"high.school\": \"secondary\",\n",
            "    \"professional.course\": \"secondary\",\n",
            "    \"university.degree\": \"tertiary\",\n",
            "}\n",
            "\n",
            "contact_mapping = {\n",
            "    \"telephone\": 0,\n",
            "    \"cellular\": 1,\n",
            "}\n",
            "\n",
            "month_mapping = {\n",
            "    \"jan\": 1,\n",
            "    \"feb\": 2,\n",
            "    \"mar\": 3,\n",
            "    \"apr\": 4,\n",
            "    \"may\": 5,\n",
            "    \"jun\": 6,\n",
            "    \"jul\": 7,\n",
            "    \"aug\": 8,\n",
            "    \"sep\": 9,\n",
            "    \"oct\": 10,\n",
            "    \"nov\": 11,\n",
            "    \"dec\": 12,\n",
            "}\n",
            "\n",
            "day_of_week_mapping = {\n",
            "    \"mon\": 1,\n",
            "    \"tue\": 2,\n",
            "    \"wed\": 3,\n",
            "    \"thu\": 4,\n",
            "    \"fri\": 5,\n",
            "}\n",
            "\n",
            "y_mapping = {\n",
            "    \"no\": 0,\n",
            "    \"yes\": 1,\n",
            "}"
         ]
      },
      {
         "cell_type": "code",
         "execution_count": 179,
         "metadata": {},
         "outputs": [],
         "source": [
            "# Load data\n",
            "bank_df = pd.read_csv(\"bank_marketing_data.csv\", sep=\";\")\n",
            "\n",
            "# Remove rows and columns\n",
            "bank_df = bank_df.drop([\"default\", \"duration\", \"pdays\", \"poutcome\"], axis=\"columns\")\n",
            "bank_df = bank_df[bank_df['education'] != 'illiterate']"
         ]
      },
      {
         "cell_type": "code",
         "execution_count": 180,
         "metadata": {},
         "outputs": [
            {
               "data": {
                  "text/html": [
                     "<div>\n",
                     "<style scoped>\n",
                     "    .dataframe tbody tr th:only-of-type {\n",
                     "        vertical-align: middle;\n",
                     "    }\n",
                     "\n",
                     "    .dataframe tbody tr th {\n",
                     "        vertical-align: top;\n",
                     "    }\n",
                     "\n",
                     "    .dataframe thead th {\n",
                     "        text-align: right;\n",
                     "    }\n",
                     "</style>\n",
                     "<table border=\"1\" class=\"dataframe\">\n",
                     "  <thead>\n",
                     "    <tr style=\"text-align: right;\">\n",
                     "      <th></th>\n",
                     "      <th>age</th>\n",
                     "      <th>job</th>\n",
                     "      <th>marital</th>\n",
                     "      <th>education</th>\n",
                     "      <th>housing</th>\n",
                     "      <th>loan</th>\n",
                     "      <th>contact</th>\n",
                     "      <th>month</th>\n",
                     "      <th>day_of_week</th>\n",
                     "      <th>campaign</th>\n",
                     "      <th>previous</th>\n",
                     "      <th>emp.var.rate</th>\n",
                     "      <th>cons.price.idx</th>\n",
                     "      <th>cons.conf.idx</th>\n",
                     "      <th>euribor3m</th>\n",
                     "      <th>nr.employed</th>\n",
                     "      <th>y</th>\n",
                     "    </tr>\n",
                     "  </thead>\n",
                     "  <tbody>\n",
                     "    <tr>\n",
                     "      <th>0</th>\n",
                     "      <td>56</td>\n",
                     "      <td>housemaid</td>\n",
                     "      <td>married</td>\n",
                     "      <td>basic.4y</td>\n",
                     "      <td>no</td>\n",
                     "      <td>no</td>\n",
                     "      <td>telephone</td>\n",
                     "      <td>may</td>\n",
                     "      <td>mon</td>\n",
                     "      <td>1</td>\n",
                     "      <td>0</td>\n",
                     "      <td>1.1</td>\n",
                     "      <td>93.994</td>\n",
                     "      <td>-36.4</td>\n",
                     "      <td>4.857</td>\n",
                     "      <td>5191.0</td>\n",
                     "      <td>no</td>\n",
                     "    </tr>\n",
                     "    <tr>\n",
                     "      <th>1</th>\n",
                     "      <td>57</td>\n",
                     "      <td>services</td>\n",
                     "      <td>married</td>\n",
                     "      <td>high.school</td>\n",
                     "      <td>no</td>\n",
                     "      <td>no</td>\n",
                     "      <td>telephone</td>\n",
                     "      <td>may</td>\n",
                     "      <td>mon</td>\n",
                     "      <td>1</td>\n",
                     "      <td>0</td>\n",
                     "      <td>1.1</td>\n",
                     "      <td>93.994</td>\n",
                     "      <td>-36.4</td>\n",
                     "      <td>4.857</td>\n",
                     "      <td>5191.0</td>\n",
                     "      <td>no</td>\n",
                     "    </tr>\n",
                     "    <tr>\n",
                     "      <th>2</th>\n",
                     "      <td>37</td>\n",
                     "      <td>services</td>\n",
                     "      <td>married</td>\n",
                     "      <td>high.school</td>\n",
                     "      <td>yes</td>\n",
                     "      <td>no</td>\n",
                     "      <td>telephone</td>\n",
                     "      <td>may</td>\n",
                     "      <td>mon</td>\n",
                     "      <td>1</td>\n",
                     "      <td>0</td>\n",
                     "      <td>1.1</td>\n",
                     "      <td>93.994</td>\n",
                     "      <td>-36.4</td>\n",
                     "      <td>4.857</td>\n",
                     "      <td>5191.0</td>\n",
                     "      <td>no</td>\n",
                     "    </tr>\n",
                     "    <tr>\n",
                     "      <th>3</th>\n",
                     "      <td>40</td>\n",
                     "      <td>admin.</td>\n",
                     "      <td>married</td>\n",
                     "      <td>basic.6y</td>\n",
                     "      <td>no</td>\n",
                     "      <td>no</td>\n",
                     "      <td>telephone</td>\n",
                     "      <td>may</td>\n",
                     "      <td>mon</td>\n",
                     "      <td>1</td>\n",
                     "      <td>0</td>\n",
                     "      <td>1.1</td>\n",
                     "      <td>93.994</td>\n",
                     "      <td>-36.4</td>\n",
                     "      <td>4.857</td>\n",
                     "      <td>5191.0</td>\n",
                     "      <td>no</td>\n",
                     "    </tr>\n",
                     "    <tr>\n",
                     "      <th>4</th>\n",
                     "      <td>56</td>\n",
                     "      <td>services</td>\n",
                     "      <td>married</td>\n",
                     "      <td>high.school</td>\n",
                     "      <td>no</td>\n",
                     "      <td>yes</td>\n",
                     "      <td>telephone</td>\n",
                     "      <td>may</td>\n",
                     "      <td>mon</td>\n",
                     "      <td>1</td>\n",
                     "      <td>0</td>\n",
                     "      <td>1.1</td>\n",
                     "      <td>93.994</td>\n",
                     "      <td>-36.4</td>\n",
                     "      <td>4.857</td>\n",
                     "      <td>5191.0</td>\n",
                     "      <td>no</td>\n",
                     "    </tr>\n",
                     "  </tbody>\n",
                     "</table>\n",
                     "</div>"
                  ],
                  "text/plain": [
                     "   age        job  marital    education housing loan    contact month  \\\n",
                     "0   56  housemaid  married     basic.4y      no   no  telephone   may   \n",
                     "1   57   services  married  high.school      no   no  telephone   may   \n",
                     "2   37   services  married  high.school     yes   no  telephone   may   \n",
                     "3   40     admin.  married     basic.6y      no   no  telephone   may   \n",
                     "4   56   services  married  high.school      no  yes  telephone   may   \n",
                     "\n",
                     "  day_of_week  campaign  previous  emp.var.rate  cons.price.idx  \\\n",
                     "0         mon         1         0           1.1          93.994   \n",
                     "1         mon         1         0           1.1          93.994   \n",
                     "2         mon         1         0           1.1          93.994   \n",
                     "3         mon         1         0           1.1          93.994   \n",
                     "4         mon         1         0           1.1          93.994   \n",
                     "\n",
                     "   cons.conf.idx  euribor3m  nr.employed   y  \n",
                     "0          -36.4      4.857       5191.0  no  \n",
                     "1          -36.4      4.857       5191.0  no  \n",
                     "2          -36.4      4.857       5191.0  no  \n",
                     "3          -36.4      4.857       5191.0  no  \n",
                     "4          -36.4      4.857       5191.0  no  "
                  ]
               },
               "execution_count": 180,
               "metadata": {},
               "output_type": "execute_result"
            }
         ],
         "source": [
            "bank_df.head()"
         ]
      },
      {
         "cell_type": "code",
         "execution_count": 181,
         "metadata": {},
         "outputs": [],
         "source": [
            "# Enocde ordinal categoricals\n",
            "bank_df = bank_df.replace({\n",
            "    \"education\": education_mapping,\n",
            "    \"contact\": contact_mapping,\n",
            "    \"month\": month_mapping,\n",
            "    \"day_of_week\": day_of_week_mapping,\n",
            "    \"y\": y_mapping\n",
            "})"
         ]
      },
      {
         "cell_type": "code",
         "execution_count": 182,
         "metadata": {},
         "outputs": [],
         "source": [
            "# remove y\n",
            "y = bank_df.pop(\"y\")"
         ]
      },
      {
         "cell_type": "markdown",
         "metadata": {},
         "source": [
            "**Zadanie 8 (0.5 punktu)**\n",
            "\n",
            "*Exploratory Data Analysis (EDA)*\n",
            "\n",
            "1. Sprawdź, czy są jakieś wartości brakujące za pomocą biblioteki `missingno`. Jeżeli tak, to sprawdź w dokumentacji zbioru, jaka byłaby sensowna wartość do ich uzupełnienia.\n",
            "2. Narysuj wykres (bar plot) z częstością klas. Uwzględnij częstość na wykresie ([to może się przydać](https://stackoverflow.com/a/68107610/9472066)). Pamiętaj o tytule i opisaniu osi."
         ]
      },
      {
         "cell_type": "code",
         "execution_count": 183,
         "metadata": {},
         "outputs": [
            {
               "data": {
                  "text/plain": [
                     "<AxesSubplot:>"
                  ]
               },
               "execution_count": 183,
               "metadata": {},
               "output_type": "execute_result"
            },
            {
               "data": {
                  "image/png": "[encoded data removed]",
                  "text/plain": [
                     "<Figure size 2400x1000 with 3 Axes>"
                  ]
               },
               "metadata": {},
               "output_type": "display_data"
            }
         ],
         "source": [
            "import missingno as msno\n",
            "\n",
            "msno.bar(bank_df)"
         ]
      },
      {
         "cell_type": "code",
         "execution_count": 184,
         "metadata": {},
         "outputs": [
            {
               "data": {
                  "image/png": "[encoded data removed]",
                  "text/plain": [
                     "<Figure size 640x480 with 1 Axes>"
                  ]
               },
               "metadata": {},
               "output_type": "display_data"
            },
            {
               "data": {
                  "image/png": "[encoded data removed]",
                  "text/plain": [
                     "<Figure size 640x480 with 1 Axes>"
                  ]
               },
               "metadata": {},
               "output_type": "display_data"
            },
            {
               "data": {
                  "image/png": "[encoded data removed]",
                  "text/plain": [
                     "<Figure size 640x480 with 1 Axes>"
                  ]
               },
               "metadata": {},
               "output_type": "display_data"
            },
            {
               "data": {
                  "image/png": "[encoded data removed]",
                  "text/plain": [
                     "<Figure size 640x480 with 1 Axes>"
                  ]
               },
               "metadata": {},
               "output_type": "display_data"
            },
            {
               "data": {
                  "image/png": "[encoded data removed]",
                  "text/plain": [
                     "<Figure size 640x480 with 1 Axes>"
                  ]
               },
               "metadata": {},
               "output_type": "display_data"
            }
         ],
         "source": [
            "# plot class frequencies\n",
            "# the categorical data contains values \"unknown\"\n",
            "for column in bank_df.select_dtypes(include=\"object\").columns:\n",
            "    category_counts = bank_df[column].value_counts()\n",
            "    labels = category_counts.index\n",
            "    counts = category_counts.values\n",
            "    plt.bar(labels, counts)\n",
            "    plt.title(f'{column} distribution')\n",
            "    plt.xticks(rotation=90, ha='center')\n",
            "    plt.show()"
         ]
      },
      {
         "cell_type": "markdown",
         "metadata": {},
         "source": [
            "Jak widać, będziemy tu mieli do czynienia z problemem klasyfikacji niezbalansowanej. Na szczęście funkcja kosztu w regresji logistycznej pozwala na dodanie **wag klas (class weights)**, aby przypisać większą wagę interesującej nas klasie pozytywnej. Scikit-learn dla wartości `class_weights=\"balanced\"` obliczy wagi odwrotnie proporcjonalne do częstości danej klasy w zbiorze."
         ]
      },
      {
         "cell_type": "markdown",
         "metadata": {},
         "source": [
            "**Zadanie 9 (1.0 punkt)**\n",
            "\n",
            "*Podział i preprocessing danych*\n",
            "\n",
            "1. Dokonaj podziału zbioru na treningowy i testowy w proporcjach 75%-25%. Pamiętaj o użyciu podziału ze stratyfikacją (argument `stratify`), aby zachować proporcje klas. Ustaw `random_state=0`.\n",
            "2. Stwórz `ColumnTransformer`, przetwarzający zmienne kategoryczne za pomocą `OneHotEncoder` (teraz już nie musimy robić `drop=\"first\"`), a numeryczne za pomocą `StandardScaler`. Zaaplikuj go do odpowiednich kolumn.\n"
         ]
      },
      {
         "cell_type": "code",
         "execution_count": 185,
         "metadata": {},
         "outputs": [],
         "source": [
            "from sklearn.model_selection import train_test_split\n",
            "categorical_features = bank_df.select_dtypes(include=\"object\").columns\n",
            "numerical_features = bank_df.select_dtypes(exclude=\"object\").columns\n",
            "\n",
            "X_train, X_test, y_train, y_test = train_test_split(\n",
            "    bank_df, y, test_size=0.25, random_state=0, stratify=y\n",
            ")"
         ]
      },
      {
         "cell_type": "code",
         "execution_count": 186,
         "metadata": {},
         "outputs": [],
         "source": [
            "from sklearn.compose import ColumnTransformer\n",
            "from sklearn.pipeline import Pipeline\n",
            "from sklearn.preprocessing import OneHotEncoder, StandardScaler\n",
            "\n",
            "\n",
            "one_hot_encoder = OneHotEncoder(sparse_output=False, handle_unknown=\"ignore\")\n",
            "\n",
            "scaler = StandardScaler()\n",
            "\n",
            "categorical_pipeline = Pipeline([\n",
            "    (\"encoder\", one_hot_encoder)\n",
            "])\n",
            "\n",
            "numerical_pipeline = Pipeline([\n",
            "    (\"scaler\", scaler)\n",
            "])\n",
            "\n",
            "column_transformer = ColumnTransformer([\n",
            "    ('categorical', categorical_pipeline, categorical_features),\n",
            "    ('numerical', numerical_pipeline, numerical_features),\n",
            "], verbose_feature_names_out=False)\n",
            "\n",
            "# fit and transform\n",
            "X_train = column_transformer.fit_transform(X_train)\n",
            "X_test = column_transformer.transform(X_test)"
         ]
      },
      {
         "cell_type": "code",
         "execution_count": 187,
         "metadata": {},
         "outputs": [
            {
               "data": {
                  "text/html": [
                     "<style>#sk-container-id-10 {color: black;}#sk-container-id-10 pre{padding: 0;}#sk-container-id-10 div.sk-toggleable {background-color: white;}#sk-container-id-10 label.sk-toggleable__label {cursor: pointer;display: block;width: 100%;margin-bottom: 0;padding: 0.3em;box-sizing: border-box;text-align: center;}#sk-container-id-10 label.sk-toggleable__label-arrow:before {content: \"▸\";float: left;margin-right: 0.25em;color: #696969;}#sk-container-id-10 label.sk-toggleable__label-arrow:hover:before {color: black;}#sk-container-id-10 div.sk-estimator:hover label.sk-toggleable__label-arrow:before {color: black;}#sk-container-id-10 div.sk-toggleable__content {max-height: 0;max-width: 0;overflow: hidden;text-align: left;background-color: #f0f8ff;}#sk-container-id-10 div.sk-toggleable__content pre {margin: 0.2em;color: black;border-radius: 0.25em;background-color: #f0f8ff;}#sk-container-id-10 input.sk-toggleable__control:checked~div.sk-toggleable__content {max-height: 200px;max-width: 100%;overflow: auto;}#sk-container-id-10 input.sk-toggleable__control:checked~label.sk-toggleable__label-arrow:before {content: \"▾\";}#sk-container-id-10 div.sk-estimator input.sk-toggleable__control:checked~label.sk-toggleable__label {background-color: #d4ebff;}#sk-container-id-10 div.sk-label input.sk-toggleable__control:checked~label.sk-toggleable__label {background-color: #d4ebff;}#sk-container-id-10 input.sk-hidden--visually {border: 0;clip: rect(1px 1px 1px 1px);clip: rect(1px, 1px, 1px, 1px);height: 1px;margin: -1px;overflow: hidden;padding: 0;position: absolute;width: 1px;}#sk-container-id-10 div.sk-estimator {font-family: monospace;background-color: #f0f8ff;border: 1px dotted black;border-radius: 0.25em;box-sizing: border-box;margin-bottom: 0.5em;}#sk-container-id-10 div.sk-estimator:hover {background-color: #d4ebff;}#sk-container-id-10 div.sk-parallel-item::after {content: \"\";width: 100%;border-bottom: 1px solid gray;flex-grow: 1;}#sk-container-id-10 div.sk-label:hover label.sk-toggleable__label {background-color: #d4ebff;}#sk-container-id-10 div.sk-serial::before {content: \"\";position: absolute;border-left: 1px solid gray;box-sizing: border-box;top: 0;bottom: 0;left: 50%;z-index: 0;}#sk-container-id-10 div.sk-serial {display: flex;flex-direction: column;align-items: center;background-color: white;padding-right: 0.2em;padding-left: 0.2em;position: relative;}#sk-container-id-10 div.sk-item {position: relative;z-index: 1;}#sk-container-id-10 div.sk-parallel {display: flex;align-items: stretch;justify-content: center;background-color: white;position: relative;}#sk-container-id-10 div.sk-item::before, #sk-container-id-10 div.sk-parallel-item::before {content: \"\";position: absolute;border-left: 1px solid gray;box-sizing: border-box;top: 0;bottom: 0;left: 50%;z-index: -1;}#sk-container-id-10 div.sk-parallel-item {display: flex;flex-direction: column;z-index: 1;position: relative;background-color: white;}#sk-container-id-10 div.sk-parallel-item:first-child::after {align-self: flex-end;width: 50%;}#sk-container-id-10 div.sk-parallel-item:last-child::after {align-self: flex-start;width: 50%;}#sk-container-id-10 div.sk-parallel-item:only-child::after {width: 0;}#sk-container-id-10 div.sk-dashed-wrapped {border: 1px dashed gray;margin: 0 0.4em 0.5em 0.4em;box-sizing: border-box;padding-bottom: 0.4em;background-color: white;}#sk-container-id-10 div.sk-label label {font-family: monospace;font-weight: bold;display: inline-block;line-height: 1.2em;}#sk-container-id-10 div.sk-label-container {text-align: center;}#sk-container-id-10 div.sk-container {/* jupyter's `normalize.less` sets `[hidden] { display: none; }` but bootstrap.min.css set `[hidden] { display: none !important; }` so we also need the `!important` here to be able to override the default hidden behavior on the sphinx rendered scikit-learn.org. See: https://github.com/scikit-learn/scikit-learn/issues/21755 */display: inline-block !important;position: relative;}#sk-container-id-10 div.sk-text-repr-fallback {display: none;}</style><div id=\"sk-container-id-10\" class=\"sk-top-container\"><div class=\"sk-text-repr-fallback\"><pre>ColumnTransformer(transformers=[(&#x27;categorical&#x27;,\n",
                     "                                 Pipeline(steps=[(&#x27;encoder&#x27;,\n",
                     "                                                  OneHotEncoder(handle_unknown=&#x27;ignore&#x27;,\n",
                     "                                                                sparse_output=False))]),\n",
                     "                                 Index([&#x27;job&#x27;, &#x27;marital&#x27;, &#x27;education&#x27;, &#x27;housing&#x27;, &#x27;loan&#x27;], dtype=&#x27;object&#x27;)),\n",
                     "                                (&#x27;numerical&#x27;,\n",
                     "                                 Pipeline(steps=[(&#x27;scaler&#x27;, StandardScaler())]),\n",
                     "                                 Index([&#x27;age&#x27;, &#x27;contact&#x27;, &#x27;month&#x27;, &#x27;day_of_week&#x27;, &#x27;campaign&#x27;, &#x27;previous&#x27;,\n",
                     "       &#x27;emp.var.rate&#x27;, &#x27;cons.price.idx&#x27;, &#x27;cons.conf.idx&#x27;, &#x27;euribor3m&#x27;,\n",
                     "       &#x27;nr.employed&#x27;],\n",
                     "      dtype=&#x27;object&#x27;))],\n",
                     "                  verbose_feature_names_out=False)</pre><b>In a Jupyter environment, please rerun this cell to show the HTML representation or trust the notebook. <br />On GitHub, the HTML representation is unable to render, please try loading this page with nbviewer.org.</b></div><div class=\"sk-container\" hidden><div class=\"sk-item sk-dashed-wrapped\"><div class=\"sk-label-container\"><div class=\"sk-label sk-toggleable\"><input class=\"sk-toggleable__control sk-hidden--visually\" id=\"sk-estimator-id-37\" type=\"checkbox\" ><label for=\"sk-estimator-id-37\" class=\"sk-toggleable__label sk-toggleable__label-arrow\">ColumnTransformer</label><div class=\"sk-toggleable__content\"><pre>ColumnTransformer(transformers=[(&#x27;categorical&#x27;,\n",
                     "                                 Pipeline(steps=[(&#x27;encoder&#x27;,\n",
                     "                                                  OneHotEncoder(handle_unknown=&#x27;ignore&#x27;,\n",
                     "                                                                sparse_output=False))]),\n",
                     "                                 Index([&#x27;job&#x27;, &#x27;marital&#x27;, &#x27;education&#x27;, &#x27;housing&#x27;, &#x27;loan&#x27;], dtype=&#x27;object&#x27;)),\n",
                     "                                (&#x27;numerical&#x27;,\n",
                     "                                 Pipeline(steps=[(&#x27;scaler&#x27;, StandardScaler())]),\n",
                     "                                 Index([&#x27;age&#x27;, &#x27;contact&#x27;, &#x27;month&#x27;, &#x27;day_of_week&#x27;, &#x27;campaign&#x27;, &#x27;previous&#x27;,\n",
                     "       &#x27;emp.var.rate&#x27;, &#x27;cons.price.idx&#x27;, &#x27;cons.conf.idx&#x27;, &#x27;euribor3m&#x27;,\n",
                     "       &#x27;nr.employed&#x27;],\n",
                     "      dtype=&#x27;object&#x27;))],\n",
                     "                  verbose_feature_names_out=False)</pre></div></div></div><div class=\"sk-parallel\"><div class=\"sk-parallel-item\"><div class=\"sk-item\"><div class=\"sk-label-container\"><div class=\"sk-label sk-toggleable\"><input class=\"sk-toggleable__control sk-hidden--visually\" id=\"sk-estimator-id-38\" type=\"checkbox\" ><label for=\"sk-estimator-id-38\" class=\"sk-toggleable__label sk-toggleable__label-arrow\">categorical</label><div class=\"sk-toggleable__content\"><pre>Index([&#x27;job&#x27;, &#x27;marital&#x27;, &#x27;education&#x27;, &#x27;housing&#x27;, &#x27;loan&#x27;], dtype=&#x27;object&#x27;)</pre></div></div></div><div class=\"sk-serial\"><div class=\"sk-item\"><div class=\"sk-serial\"><div class=\"sk-item\"><div class=\"sk-estimator sk-toggleable\"><input class=\"sk-toggleable__control sk-hidden--visually\" id=\"sk-estimator-id-39\" type=\"checkbox\" ><label for=\"sk-estimator-id-39\" class=\"sk-toggleable__label sk-toggleable__label-arrow\">OneHotEncoder</label><div class=\"sk-toggleable__content\"><pre>OneHotEncoder(handle_unknown=&#x27;ignore&#x27;, sparse_output=False)</pre></div></div></div></div></div></div></div></div><div class=\"sk-parallel-item\"><div class=\"sk-item\"><div class=\"sk-label-container\"><div class=\"sk-label sk-toggleable\"><input class=\"sk-toggleable__control sk-hidden--visually\" id=\"sk-estimator-id-40\" type=\"checkbox\" ><label for=\"sk-estimator-id-40\" class=\"sk-toggleable__label sk-toggleable__label-arrow\">numerical</label><div class=\"sk-toggleable__content\"><pre>Index([&#x27;age&#x27;, &#x27;contact&#x27;, &#x27;month&#x27;, &#x27;day_of_week&#x27;, &#x27;campaign&#x27;, &#x27;previous&#x27;,\n",
                     "       &#x27;emp.var.rate&#x27;, &#x27;cons.price.idx&#x27;, &#x27;cons.conf.idx&#x27;, &#x27;euribor3m&#x27;,\n",
                     "       &#x27;nr.employed&#x27;],\n",
                     "      dtype=&#x27;object&#x27;)</pre></div></div></div><div class=\"sk-serial\"><div class=\"sk-item\"><div class=\"sk-serial\"><div class=\"sk-item\"><div class=\"sk-estimator sk-toggleable\"><input class=\"sk-toggleable__control sk-hidden--visually\" id=\"sk-estimator-id-41\" type=\"checkbox\" ><label for=\"sk-estimator-id-41\" class=\"sk-toggleable__label sk-toggleable__label-arrow\">StandardScaler</label><div class=\"sk-toggleable__content\"><pre>StandardScaler()</pre></div></div></div></div></div></div></div></div></div></div></div></div>"
                  ],
                  "text/plain": [
                     "ColumnTransformer(transformers=[('categorical',\n",
                     "                                 Pipeline(steps=[('encoder',\n",
                     "                                                  OneHotEncoder(handle_unknown='ignore',\n",
                     "                                                                sparse_output=False))]),\n",
                     "                                 Index(['job', 'marital', 'education', 'housing', 'loan'], dtype='object')),\n",
                     "                                ('numerical',\n",
                     "                                 Pipeline(steps=[('scaler', StandardScaler())]),\n",
                     "                                 Index(['age', 'contact', 'month', 'day_of_week', 'campaign', 'previous',\n",
                     "       'emp.var.rate', 'cons.price.idx', 'cons.conf.idx', 'euribor3m',\n",
                     "       'nr.employed'],\n",
                     "      dtype='object'))],\n",
                     "                  verbose_feature_names_out=False)"
                  ]
               },
               "execution_count": 187,
               "metadata": {},
               "output_type": "execute_result"
            }
         ],
         "source": [
            "column_transformer"
         ]
      },
      {
         "cell_type": "markdown",
         "metadata": {},
         "source": [
            "### Metryki klasyfikacji binarnej\n",
            "\n",
            "W klasyfikacji binarnej mamy tylko dwie klasy, z konwencji oznaczamy jedną klasę jako negatywną, a drugą - pozytywną. W naszym przypadku klasą negatywną będą osoby niezainteresowane lokatą - nie chcemy im pokazywać naszych reklam, bo to będzie raczej nieskuteczne, a reklama kosztuje. Naszym targetem będą osoby oznaczone klasą pozytywną.\n",
            "\n",
            "Wytrenowaliśmy model, ale jak sprawdzić jakość jego działania? Metryki z regresji raczej za wiele nam nie pomogą. Potrzebujemy zdefiniować nowe.\n",
            "\n",
            "#### Celność, dokładność (*Accuracy*)\n",
            "\n",
            "Najprostszym sposobem oceny klasyfikacji jest sprawdzić, w ilu przypadkach się mylimy, a w ilu model odpowiada poprawnie. Ta metryka jest zwana ***accuracy***. Ma ona jednak zasadniczą wadę - kompletnie nie radzi sobie z klasami niezbalansowanymi.\n",
            "\n",
            "Prosty przypadek - mamy zbiór danych, który pozwala na podstawie różnych parametrów medycznych wykryć rzadką chorobę, która zdarza się u 0.01% ludzi. Weźmy prosty klasyfikator, który zawsze zwraca klasę negatywną. Niby jest w oczywisty sposób kompletnie nieprzydatny, ale jednak dla losowej próbki ludzi dostanie ***celność*** równą 99.99%, bo, rzeczywiście, u większości tej choroby nie będzie.\n",
            "\n",
            "Potrzebujemy bardziej skomplikowanej metryki, której nie da się tak łatwo oszukać.\n"
         ]
      },
      {
         "cell_type": "markdown",
         "metadata": {},
         "source": [
            "\n",
            "#### Macierz pomyłek (*Confusion Matrix*)\n",
            "\n",
            "Żeby zdefiniować taką metodę oceny klasyfikacji, musimy najpierw rozważyć jakie sytuacje mogą zdarzyć się przy klasyfikacji binarnej. Spójrzmy na tablicę poniżej:\n",
            "\n",
            "<div>\n",
            "<img src=\"confusion-matrix.png\" width=\"500\"/>\n",
            "</div>\n",
            "\n",
            "Występują tutaj przypadki:\n",
            "* ***prawdziwie pozytywne*** (*true positive*) - model zwrócił klasę pozytywną (*positive*), i jest to prawda (*true*)\n",
            "* ***prawdziwie negatwyne*** (*true negative*) - model zwrócił klasę negatywną (*negative*), i jest to prawda (*true*)\n",
            "* ***fałszywie negatywne*** (*false negative*) - model zwrócił klasę negatywną (*negative*), ale nie jest to prawda (*false*)\n",
            "* ***fałszywie pozytywne*** (*false positive*) - model zwrócił klasę pozytywną (*positive*), ale nie jest to prawda (*false*)\n",
            "\n",
            "Mając powyższe punkty - możemy zdefiniować ***celność*** następująco:\n",
            "\n",
            "$$\n",
            "accuracy = \\frac{TP + TN}{TP + TN + FP + FN}\n",
            "$$\n",
            "\n",
            "czyli ilość przypadków, w których poprawnie zidentykowaliśmy klasę, podzieloną przez ilość wszystkich przypadków.\n"
         ]
      },
      {
         "cell_type": "markdown",
         "metadata": {},
         "source": [
            "\n",
            "#### Precyzja (miara predykcyjna dodatnia) i czułość (*Precision & Recall*)\n",
            "\n",
            "Jednak jak zauważyliśmy wcześniej, istnieją sytuacje, w których nie jest to właściwe podejście.\n",
            "\n",
            "Zdecydowanie ciekawszą dla nas metryką może być stwierdzenie jaką część rekordów z klasą pozytywną model poprawnie rozpoznał. Pozwoli to nam powiedzieć, jak czuły jest nasz model na klasę pozytywną. Ta metryka nazywa się czułością (***recall***):\n",
            "\n",
            "$$\n",
            "recall = \\frac{TP}{TP + FN}\n",
            "$$\n",
            "\n",
            "Jest o ilość przypadków, w których poprawnie rozpoznaliśmy klasę pozytywną, podzielona przez ilość wszystkich przypadków z klasą pozytywną.\n",
            "\n",
            "Drugą korzystną dla nas metryką będzie stwierdzenie ile z osób, które zakwalifikowaliśmy do klasy pozytywne, rzeczywiście do niej należy. Pozwoli to oszacować, jak często mylimy się oznaczając rekord klasą pozytywną. Ta metryka nazywa się precyzją (***precision***):\n",
            "\n",
            "$$\n",
            "precision = \\frac{TP}{TP + FP}\n",
            "$$\n",
            "\n",
            "Jest to ilość przypadków, w których poprawnie rozpoznaliśmy klasę pozytywną, podzielona przez ilość wszystkich przypadków, w których zwróciliśmy klasę pozytywną.\n",
            "\n",
            "Ta metryka może być bardzo pomocna, na przykład, przy klasyfikacji spamu. Gorzej będzie, jeśli wrzucimy ważnego maila do spamu, niż przegapimy jakąś reklamę. Chcemy, aby jeśli coś zostało zaklasyfikowane jako spam, rzeczywiście nim było - chcemy jak najwyższą precyzję.\n"
         ]
      },
      {
         "cell_type": "markdown",
         "metadata": {},
         "source": [
            "#### F1 score\n",
            "\n",
            "Powyższe metryki mają wadę - pojedynczo można je łatwo oszukać:\n",
            "\n",
            "* Czy chcemy idealną ***precyzję***? - wystarczy zawsze zwracać klasę negatywną (ważny mail nie trafi do spamu, jeśli żadnego z nich tam nie wrzucimy).\n",
            "* Czy chcemy idealną ***czułość***? - zawsze zwracamy klasę pozytywną (na pewno nie pominiemy chorego pacjenta, jeśli każdemu powiemy, że jest chory).\n",
            "\n",
            "Musimy stosować je w parze. Dla prostoty, często agregujemy je do jednej zagregowanej miary za pomocą średniej harmonicznej. W przypadku liczb z zakresu $[0, 1]$ (a z takimi mamy do czynienia), ona ma taką własność, że wartość wynikowa zawsze będzie bliższa mniejszej wartości. I im większa jest między nimi różnica, tym bardziej jest to widoczne. Przykładowo, dla pary $(100\\%, 0\\%)$ średnia harmoniczna wynosi $0\\%$. Średnia harmoniczna z ***precyzji*** i ***czułości*** nazywana jest ***miarą F1*** (*F1 score*):\n",
            "\n",
            "$$\n",
            "F_1 = \\frac{2 \\cdot precision \\cdot recall}{precision + recall}\n",
            "$$\n",
            "\n",
            "[Ten tutorial](https://mlu-explain.github.io/precision-recall/) ma świetne wizualizację, które w interaktywny sposób prezentują działanie powyższych metryk.\n",
            "\n",
            "**Uwaga**:  indeks dolny w mierze $F_1$ oznacza, że mamy do czyninia z miarą, która daje taką samą wagę precyzji i czułości, ale w ogólnym przypadku jest to parametr, za pomocą którego możemy promować miarę, która ma dla nas większe znaczenie."
         ]
      },
      {
         "cell_type": "markdown",
         "metadata": {},
         "source": [
            "**Zadanie 10 (2.0 punkty)**\n",
            "\n",
            "*Trening, tuning i analiza modeli*\n",
            "\n",
            "1. Wytrenuj podstawowy model regresji logistycznej z użyciem `LogisticRegression`. Użyj wag klas (`class_weights=\"balanced\"`). Przetestuj model, wypisując pecyzję, czułość oraz miarę F1 w procentach. **Uwaga:** Scikit-learn domyślnie stosuje tutaj regularyzację L2, więc przekaż `penalty=\"None\"`.\n",
            "2. Dokonaj tuningu modelu z regularyzacją L2 za pomocą `LogisticRegressionCV`:\n",
            "    - sprawdź 100 wartości, wystarczy podać liczbę do `Cs`,\n",
            "    - użyj 5-krotnej walidacji krzyżowej,\n",
            "    - wybierz najlepszy model według metryki F1 (parametr `scoring`),\n",
            "    - pamiętaj o `class_weights=\"balanced\"` i `random_state=0`,\n",
            "    - użyj `n_jobs=-1` dla przyspieszenia obliczeń (`-1` znaczy, że użyjemy wszystkich rdzeni do obliczeń),\n",
            "    - przetestuj model, wypisując precyzję, czułość i miarę F1 w procentach.\n",
            "    - **uwaga:** Scikit-learn stosuje tutaj konwencję, gdzie parametr `C` to odwrotność siły regularyzacji - im mniejszy, tym silniejsza regularyzacja.\n",
            "3. Dokonaj analogicznego tuningu, ale dla regularyzacji L1. Użyj solwera SAGA. Przetestuj model, wypisując precyzję, czułość i miarę F1 w procentach.\n",
            "4. Dokonaj analizy wytrenowanych modeli:\n",
            "    - Oblicz miarę F1 na zbiorze treningowym modelu bez żadnej regularyzacji i porównaj go z wynikiem testowym; czy występuje tutaj overfitting?\n",
            "    - Czy twoim zdaniem tworzenie modeli z regularyzacją ma sens w tym przypadku?\n",
            "\n",
            "Napisz co, w twojej opinii, jest ważniejsze dla naszego problemu, ***precision*** czy ***recall***? Jak moglibyśmy, nie zmieniając modelu, zmienić ich stosunek?"
         ]
      },
      {
         "cell_type": "code",
         "execution_count": 188,
         "metadata": {},
         "outputs": [
            {
               "name": "stdout",
               "output_type": "stream",
               "text": [
                  "No regularization model\n",
                  "f1_score:        39.54%\n",
                  "precision_score: 66.35%\n",
                  "recall_score:    28.16%\n"
               ]
            }
         ],
         "source": [
            "from sklearn.linear_model import LogisticRegression\n",
            "from sklearn.metrics import f1_score, precision_score, recall_score\n",
            "\n",
            "reg_logistic = LogisticRegression(class_weight=\"balanced\", penalty=None)\n",
            "reg_logistic.fit(X_test, y_test)\n",
            "\n",
            "y_pred = reg_logistic.predict(X_test)\n",
            "\n",
            "print(\"No regularization model\") \n",
            "print(f\"f1_score:        {100 * f1_score(y_pred, y_test):.2f}%\")\n",
            "print(f\"precision_score: {100 * precision_score(y_pred, y_test):.2f}%\")\n",
            "print(f\"recall_score:    {100 * recall_score(y_pred, y_test):.2f}%\")"
         ]
      },
      {
         "cell_type": "code",
         "execution_count": 189,
         "metadata": {},
         "outputs": [
            {
               "name": "stdout",
               "output_type": "stream",
               "text": [
                  "L2 regularized model\n",
                  "f1_score:        37.83%\n",
                  "precision_score: 66.87%\n",
                  "recall_score:    26.38%\n"
               ]
            }
         ],
         "source": [
            "from sklearn.linear_model import LogisticRegressionCV\n",
            "\n",
            "reg_logisitic_cv = LogisticRegressionCV(Cs=100, cv=5, class_weight=\"balanced\",\n",
            "                                         random_state=0, n_jobs=-1, penalty=\"l2\")\n",
            "\n",
            "reg_logisitic_cv.fit(X_train, y_train)\n",
            "\n",
            "y_pred = reg_logisitic_cv.predict(X_test)\n",
            "\n",
            "print(\"L2 regularized model\") \n",
            "print(f\"f1_score:        {100 * f1_score(y_pred, y_test):.2f}%\")\n",
            "print(f\"precision_score: {100 * precision_score(y_pred, y_test):.2f}%\")\n",
            "print(f\"recall_score:    {100 * recall_score(y_pred, y_test):.2f}%\")"
         ]
      },
      {
         "cell_type": "code",
         "execution_count": 190,
         "metadata": {},
         "outputs": [
            {
               "name": "stdout",
               "output_type": "stream",
               "text": [
                  "L1 regularized model\n",
                  "f1_score:        35.80%\n",
                  "precision_score: 69.89%\n",
                  "recall_score:    24.06%\n"
               ]
            }
         ],
         "source": [
            "from sklearn.linear_model import LogisticRegressionCV\n",
            "\n",
            "reg_logisitic_cv_l1 = LogisticRegressionCV(Cs=100, cv=5, penalty='l1', solver='saga',\n",
            " class_weight=\"balanced\", random_state=0, n_jobs=-1)\n",
            "\n",
            "reg_logisitic_cv_l1.fit(X_train, y_train)\n",
            "\n",
            "y_pred = reg_logisitic_cv_l1.predict(X_test)\n",
            "\n",
            "print(\"L1 regularized model\") \n",
            "print(f\"f1_score:        {100 * f1_score(y_pred, y_test):.2f}%\")\n",
            "print(f\"precision_score: {100 * precision_score(y_pred, y_test):.2f}%\")\n",
            "print(f\"recall_score:    {100 * recall_score(y_pred, y_test):.2f}%\")"
         ]
      },
      {
         "cell_type": "code",
         "execution_count": 191,
         "metadata": {},
         "outputs": [
            {
               "name": "stdout",
               "output_type": "stream",
               "text": [
                  "No regularization - train data\n",
                  "f1_score:        39.96%\n",
                  "precision_score: 66.52%\n",
                  "recall_score:    28.55%\n",
                  "\n",
                  "No regularization - test data\n",
                  "f1_score:        39.54%\n",
                  "precision_score: 66.35%\n",
                  "recall_score:    28.16%\n"
               ]
            }
         ],
         "source": [
            "y_pred = reg_logistic.predict(X_train)\n",
            "\n",
            "print(\"No regularization - train data\") \n",
            "print(f\"f1_score:        {100 * f1_score(y_pred, y_train):.2f}%\")\n",
            "print(f\"precision_score: {100 * precision_score(y_pred, y_train):.2f}%\")\n",
            "print(f\"recall_score:    {100 * recall_score(y_pred, y_train):.2f}%\")\n",
            "\n",
            "\n",
            "y_pred = reg_logistic.predict(X_test)\n",
            "\n",
            "print(\"\\nNo regularization - test data\") \n",
            "print(f\"f1_score:        {100 * f1_score(y_pred, y_test):.2f}%\")\n",
            "print(f\"precision_score: {100 * precision_score(y_pred, y_test):.2f}%\")\n",
            "print(f\"recall_score:    {100 * recall_score(y_pred, y_test):.2f}%\")"
         ]
      },
      {
         "cell_type": "markdown",
         "metadata": {},
         "source": [
            "**Zadanie 11 (2.0 punkty)**\n",
            "\n",
            "*Dodanie cech wielomianowych do regresji logistycznej*\n",
            "\n",
            "1. Stwórz nowy pipeline do przetwarzania danych do regresji logistycznej, dodając `PolynomialFeatures` do zmiennych numerycznych przed standaryzacją. Wygeneruj cechy o stopniu 2, interakcje oraz potęgi, nie generuj interceptu.\n",
            "2. Wytrenuj model regresji logistycznej bez regularyzacji na takim powiększonym zbiorze. Wypisz F1 treningowy oraz testowy w procentach.\n",
            "3. Zdecyduj, czy jest sens tworzyć modele z regularyzacją. Jeżeli tak, to wytrenuj i dokonaj tuningu takich modeli. Jeżeli nie, to uzasadnij czemu."
         ]
      },
      {
         "cell_type": "code",
         "execution_count": 192,
         "metadata": {},
         "outputs": [
            {
               "name": "stderr",
               "output_type": "stream",
               "text": [
                  "c:\\Users\\Nicolas\\Documents\\Semestr V\\Podstawy Sztucznej Inteligencji\\sztuczna-inteligencja\\.conda\\lib\\site-packages\\sklearn\\linear_model\\_logistic.py:460: ConvergenceWarning: lbfgs failed to converge (status=1):\n",
                  "STOP: TOTAL NO. of ITERATIONS REACHED LIMIT.\n",
                  "\n",
                  "Increase the number of iterations (max_iter) or scale the data as shown in:\n",
                  "    https://scikit-learn.org/stable/modules/preprocessing.html\n",
                  "Please also refer to the documentation for alternative solver options:\n",
                  "    https://scikit-learn.org/stable/modules/linear_model.html#logistic-regression\n",
                  "  n_iter_i = _check_optimize_result(\n"
               ]
            },
            {
               "name": "stdout",
               "output_type": "stream",
               "text": [
                  "F1 for train data: 44.40%\n",
                  "F1 for test data: 42.89%\n"
               ]
            }
         ],
         "source": [
            "pipeline = Pipeline([\n",
            "    ('polynomial_features', PolynomialFeatures(degree=2, interaction_only=True, include_bias=False)),\n",
            "    ('classifier', LogisticRegression(class_weight=\"balanced\", penalty=None))\n",
            "])\n",
            "\n",
            "pipeline.fit(X_train, y_train)\n",
            "\n",
            "y_train_pred = pipeline.predict(X_train)\n",
            "y_test_pred = pipeline.predict(X_test)\n",
            "\n",
            "\n",
            "print(f\"F1 for train data: {100 * f1_score(y_train, y_train_pred):.2f}%\")\n",
            "print(f\"F1 for test data: {100 * f1_score(y_test, y_test_pred):.2f}%\")"
         ]
      },
      {
         "cell_type": "markdown",
         "metadata": {},
         "source": [
            "Wynik jest lepszy niż zwykłej regresji logistycznej, natomiast F1 zbioru treningowego i testowego jest ponownie bardzo do siebie zbliżone, nie mamy widocznego zjawiska overfittingu więc używanie regularyzacji nie przyniesie znaczących efektów"
         ]
      },
      {
         "cell_type": "markdown",
         "metadata": {},
         "source": [
            "## Zadanie dodatkowe (3 punkty)"
         ]
      },
      {
         "cell_type": "markdown",
         "metadata": {},
         "source": [
            "Z formalnego, statystycznego punktu widzenia regresja liniowa czyni szereg założeń ([Wikipedia](https://en.wikipedia.org/wiki/Linear_regression#Assumptions)):\n",
            "1. Liniowość - relacja w danych może być reprezentowana jako `y=Xw`.\n",
            "2. Normalność błędów - błędy (rezydua) mają rozkład normalny, wycentrowany na zerze.\n",
            "3. Homoskedastyczność (stała wariancja) - wariancja błędu nie zależy od wartości docelowych `y`. Innymi słowy, nasz błąd będzie w przybliżeniu miał podobny \"rozrzut\" dla małych i dużych wartości `y`.\n",
            "4. Niezależność błędów - błąd i `y` są niezależne (w sensie statystycznym). Innymi słowy, nie ma między nimi bezpośredniej relacji. Jeżeli nie pracujemy z szeregami czasowymi, to to założenie po prostu jest spełnione.\n",
            "5. Brak współliniowości zmiennych - nie ma idealnej korelacji cech.\n",
            "\n",
            "Testowanie tych własności nie zawsze jest oczywiste, a w szczególności Scikit-learn oferuje tutaj dość mało opcji, bo pochodzą one głównie z tradycyjnej statystyki.\n",
            "\n",
            "1. Liniowość:\n",
            "  - numerycznie: wysoki współczynnik dopasowania modelu $R^2$ na zbiorze treningowym, niski błąd (RMSE) na zbiorze treningowym oraz testowym\n",
            "  - testem statystycznym: [Rainbow test](https://www.statsmodels.org/dev/generated/statsmodels.stats.diagnostic.linear_rainbow.html) lub [Harvey Collier test](https://www.statsmodels.org/stable/generated/statsmodels.stats.diagnostic.linear_harvey_collier.html)\n",
            "  - graficznie: możliwe kiedy mamy 1/2 zmienne i da się narysować wykres zmiennej zależnej względem cech\n",
            "2. Normalność błędów:\n",
            "  - graficznie: robimy histogram rezyduów, powinien mieć kształt rozkładu normalnego i być wycentrowany na zerze\n",
            "  - testem statystycznym: [Jarque-Bera test](https://en.wikipedia.org/wiki/Jarque%E2%80%93Bera_test), [Omnibus normality test](https://docs.scipy.org/doc/scipy/reference/generated/scipy.stats.normaltest.html)\n",
            "3. Homoskedastyczność:\n",
            "  - graficznie: robimy scatter plot rezyduów dla wartości przewidywanych od najmniejszej do największej, nie powinno być na nim żadnych widocznych wzorców czy kształtów; [przykład 1](https://towardsdatascience.com/multivariant-linear-regression-e636a4f99b40), [przykład 2](https://www.vexpower.com/brief/homoskedasticity)\n",
            "  - testem statystycznym: [Breusch–Pagan test](https://en.wikipedia.org/wiki/Breusch%E2%80%93Pagan_test) lub [Goldfeld-Quandt test](https://en.wikipedia.org/wiki/Goldfeld%E2%80%93Quandt_test)\n",
            "4. Niezależność błędów - nie omawiam, bo dotyczy tylko szeregów czasowych.\n",
            "5. Brak współliniowości zmiennych: numerycznie, sprawdzić korelacje zmiennych, lub współczynnik uwarunkowania macierzy `X`\n",
            "\n",
            "\n",
            "W ramach zadania wytrenuj model regresji liniowej dla zbioru danych Ames Housing z użyciem biblioteki Statsmodels: [OLS docs](https://www.statsmodels.org/dev/generated/statsmodels.regression.linear_model.OLS.html), [OLS](https://www.statsmodels.org/dev/examples/notebooks/generated/ols.html), [Regression diagnostics](https://www.statsmodels.org/dev/examples/notebooks/generated/regression_diagnostics.html). Wytrenuj najpierw model bez regularyzacji, a następnie z regularyzacją L2 oraz L1. Nie przeprowadzaj tuningu, użyj tych wartości siły regularyzacji, które wyznaczyliśmy wcześniej.\n",
            "\n",
            "Przetestuj założenia za pomocą testów statystycznych: Harvey Collier, Jarque-Bera, Breusch–Pagan. Współliniowość zmiennych zweryfikuj z użyciem współczynnika uwarunkowania. Zastosuj poziom istotności $\\alpha=0.05$.\n",
            "\n",
            "Czy założenia są spełnione w przypadku podstawowego modelu i/lub modeli z regularyzacją? Czy modele regularyzowane w lepszym stopniu spełniają założenia?"
         ]
      },
      {
         "cell_type": "code",
         "execution_count": null,
         "metadata": {},
         "outputs": [],
         "source": []
      }
   ],
   "metadata": {
      "kernelspec": {
         "display_name": "Python 3",
         "language": "python",
         "name": "python3"
      },
      "language_info": {
         "codemirror_mode": {
            "name": "ipython",
            "version": 3
         },
         "file_extension": ".py",
         "mimetype": "text/x-python",
         "name": "python",
         "nbconvert_exporter": "python",
         "pygments_lexer": "ipython3",
         "version": "3.9.18"
      }
   },
   "nbformat": 4,
   "nbformat_minor": 4
}
